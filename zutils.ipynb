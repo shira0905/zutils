{
 "cells": [
  {
   "cell_type": "markdown",
   "metadata": {},
   "source": [
    "# 我的常用 utils 集合 <a id='0'></a>\n",
    "\n",
    "- <a href='#1'>1. 从html source code中提取所需的list</a>\n",
    "- <a href='#2'>2. 文件批量改名</a>\n",
    "- <a href='#3'>3. 计算器</a>\n",
    "- <a href='#4'>4. youtube字幕转成文章</a>\n",
    "- <a href='#5'>5. 概率模拟</a>\n",
    "- <a href='#6'>6. 函数模拟</a>\n",
    "- <a href='#7'>7. 数据统计方法</a>\n",
    "- <a href='#8'>8. 按照excel批量生成文件</a>\n",
    "- <a href='#9'>9. 查看蓝牙设备</a>\n",
    "- <a href='#10'>10. 集合运算模拟</a>\n",
    "- <a href='#11'>11. 视频下载脚本</a>\n",
    "- <a href='#12'>12. NLP相关</a>"
   ]
  },
  {
   "cell_type": "markdown",
   "metadata": {},
   "source": [
    "### <a id='1'>1. 从html source code中提取所需的list</a>  (<a href='#0'>返回</a>)"
   ]
  },
  {
   "cell_type": "code",
   "execution_count": 38,
   "metadata": {
    "collapsed": true,
    "scrolled": true
   },
   "outputs": [],
   "source": [
    "str = '<span class=\"select2-results\"><ul class=\"select2-results__options\" role=\"listbox\" tabindex=\"-1\" id=\"select2-jwhi-results\" aria-expanded=\"true\" aria-hidden=\"false\" aria-activedescendant=\"select2-jwhi-result-xi57-DICECOM\"><li class=\"select2-results__option\" id=\"select2-jwhi-result-3jid-51JOBS\" role=\"option\" data-selected=\"false\" tabindex=\"-1\" aria-selected=\"false\">51Jobs</li><li class=\"select2-results__option\" id=\"select2-jwhi-result-qsth-APECFR\" role=\"option\" data-selected=\"false\" tabindex=\"-1\">Apec.fr</li><li class=\"select2-results__option\" id=\"select2-jwhi-result-xvqm-BESTJOBS\" role=\"option\" data-selected=\"false\" tabindex=\"-1\">Bestjobs</li><li class=\"select2-results__option\" id=\"select2-jwhi-result-x17n-CADREMPLOIFR\" role=\"option\" data-selected=\"false\" tabindex=\"-1\" aria-selected=\"false\">Cadremploi.fr</li><li class=\"select2-results__option\" id=\"select2-jwhi-result-z6zd-CAREERWEB\" role=\"option\" data-selected=\"false\" tabindex=\"-1\" aria-selected=\"false\">CareerWeb</li><li class=\"select2-results__option\" id=\"select2-jwhi-result-uvn7-CAREERBUILDER\" role=\"option\" data-selected=\"false\" tabindex=\"-1\">Careerbuilder</li><li class=\"select2-results__option\" id=\"select2-jwhi-result-xafz-CRAIGSLIST\" role=\"option\" data-selected=\"false\" tabindex=\"-1\">Craigslist</li><li class=\"select2-results__option select2-results__option--highlighted\" id=\"select2-jwhi-result-xi57-DICECOM\" role=\"option\" data-selected=\"false\" tabindex=\"-1\" aria-selected=\"true\">Dice.com</li><li class=\"select2-results__option\" id=\"select2-jwhi-result-6bha-GLASSDOOR\" role=\"option\" data-selected=\"false\" tabindex=\"-1\" aria-selected=\"false\">GlassDoor</li><li class=\"select2-results__option\" id=\"select2-jwhi-result-svmq-HANDSHAKE\" role=\"option\" data-selected=\"false\" tabindex=\"-1\" aria-selected=\"false\">Handshake</li><li class=\"select2-results__option\" id=\"select2-jwhi-result-v8h0-INDEED\" role=\"option\" data-selected=\"false\" tabindex=\"-1\">Indeed</li><li class=\"select2-results__option\" id=\"select2-jwhi-result-rarq-INFOJOBS\" role=\"option\" data-selected=\"false\" tabindex=\"-1\">InfoJobs</li><li class=\"select2-results__option\" id=\"select2-jwhi-result-k2wx-LINKEDINCOM\" role=\"option\" data-selected=\"false\" tabindex=\"-1\">LinkedIn.com</li><li class=\"select2-results__option\" id=\"select2-jwhi-result-bo7p-MONSTER\" role=\"option\" data-selected=\"false\" tabindex=\"-1\">Monster</li><li class=\"select2-results__option\" id=\"select2-jwhi-result-dryv-NAUKRI\" role=\"option\" data-selected=\"false\" tabindex=\"-1\">Naukri</li><li class=\"select2-results__option\" id=\"select2-jwhi-result-ylbt-OTHER\" role=\"option\" data-selected=\"false\" tabindex=\"-1\">Other</li><li class=\"select2-results__option\" id=\"select2-jwhi-result-7r3c-PROFESIA\" role=\"option\" data-selected=\"false\" tabindex=\"-1\">Profesia</li><li class=\"select2-results__option\" id=\"select2-jwhi-result-7o9h-REEDCOUK\" role=\"option\" data-selected=\"false\" tabindex=\"-1\">Reed.co.uk</li><li class=\"select2-results__option\" id=\"select2-jwhi-result-zc9m-THELADDERS\" role=\"option\" data-selected=\"false\" tabindex=\"-1\">TheLadders</li><li class=\"select2-results__option\" id=\"select2-jwhi-result-386j-TOTALJOBS\" role=\"option\" data-selected=\"false\" tabindex=\"-1\">TotalJobs</li><li class=\"select2-results__option\" id=\"select2-jwhi-result-6v53-XING\" role=\"option\" data-selected=\"false\" tabindex=\"-1\">Xing</li><li class=\"select2-results__option\" id=\"select2-jwhi-result-6wbh-EJOBS\" role=\"option\" data-selected=\"false\" tabindex=\"-1\">eJobs</li></ul></span>'"
   ]
  },
  {
   "cell_type": "code",
   "execution_count": 7,
   "metadata": {
    "collapsed": false
   },
   "outputs": [
    {
     "name": "stdout",
     "output_type": "stream",
     "text": [
      "n e w es t e es </w>\n"
     ]
    }
   ],
   "source": [
    "word_index_list = []\n",
    "word_index_list += [0] * int(8)\n",
    "word_index_list += [1] * int(5)\n",
    "word_index_list\n",
    "\n",
    "import re\n",
    "pair = ['e','s']\n",
    "bigram = re.escape(' '.join(pair))\n",
    "p = re.compile(r'(?<!\\S)' + bigram + r'(?!\\S)')\n",
    "w_out = p.sub(''.join(pair), \"n e w e s t e e s </w>\")\n",
    " \n",
    " \n",
    "\n",
    "print(w_out)"
   ]
  },
  {
   "cell_type": "code",
   "execution_count": 39,
   "metadata": {
    "collapsed": false,
    "scrolled": true
   },
   "outputs": [
    {
     "name": "stdout",
     "output_type": "stream",
     "text": [
      "3442\n",
      "['', '', '51Jobs', '', 'Apec.fr', '', 'Bestjobs', '', 'Cadremploi.fr', '', 'CareerWeb', '', 'Careerbuilder', '', 'Craigslist', '', 'Dice.com', '', 'GlassDoor', '', 'Handshake', '', 'Indeed', '', 'InfoJobs', '', 'LinkedIn.com', '', 'Monster', '', 'Naukri', '', 'Other', '', 'Profesia', '', 'Reed.co.uk', '', 'TheLadders', '', 'TotalJobs', '', 'Xing', '', 'eJobs', '', '']\n",
      "51Jobs\n",
      "Apec.fr\n",
      "Bestjobs\n",
      "Cadremploi.fr\n",
      "CareerWeb\n",
      "Careerbuilder\n",
      "Craigslist\n",
      "Dice.com\n",
      "GlassDoor\n",
      "Handshake\n",
      "Indeed\n",
      "InfoJobs\n",
      "LinkedIn.com\n",
      "Monster\n",
      "Naukri\n",
      "Other\n",
      "Profesia\n",
      "Reed.co.uk\n",
      "TheLadders\n",
      "TotalJobs\n",
      "Xing\n",
      "eJobs\n"
     ]
    }
   ],
   "source": [
    "import re\n",
    "print(len(str))\n",
    "\n",
    "p1 = re.compile(r'>(.*?)<', re.S) \n",
    "all_webs = re.findall(p1,str)\n",
    "print(all_webs)\n",
    "for web in all_webs:\n",
    "    if web!='':\n",
    "        print(web)"
   ]
  },
  {
   "cell_type": "code",
   "execution_count": 5,
   "metadata": {
    "collapsed": false
   },
   "outputs": [
    {
     "name": "stdout",
     "output_type": "stream",
     "text": [
      "70\n",
      "郁郁寡欢\n",
      "悲观失意\n",
      "好吃懒做\n",
      "疑神疑鬼\n",
      "患得患失\n",
      "异想天开\n",
      "多愁善感\n",
      "狡猾多变\n",
      "贪小便宜\n",
      "见异思迁\n",
      "情绪多变\n",
      "脾气暴躁重色轻友胆小怕事\n",
      "好吃懒做\n",
      "成熟稳重\n",
      "幼稚调皮\n",
      "温柔体贴\n",
      "诚实坦白\n",
      "婆婆妈妈\n",
      "活泼可爱\n",
      "普普通通\n",
      "内向害羞\n",
      "外向开朗\n",
      "心地善良聪明伶俐善解人意\n",
      "风趣幽默\n",
      "思想开放\n",
      "积极进取\n",
      "小心谨慎\n",
      "郁郁寡欢\n",
      "正义正直\n",
      "悲观失意\n",
      "好吃懒做\n",
      "处事洒脱\n",
      "疑神疑鬼\n",
      "患得患失异想天开多愁善感\n",
      "淡泊名利\n",
      "见利忘义\n",
      "瞻前顾后\n",
      "循规蹈矩\n",
      "热心助人\n",
      "快言快语\n",
      "少言寡语\n",
      "爱管闲事\n",
      "追求刺激\n",
      "豪放不羁\n",
      "狡猾多变贪小便宜见异思迁\n",
      "情绪多变\n",
      "水性扬花\n",
      "重色轻友\n",
      "胆小怕事\n",
      "积极负责\n",
      "勇敢正义\n",
      "聪明好学\n",
      "实事求是\n",
      "务实实际\n",
      "老实巴交\n",
      "圆滑老练脾气暴躁慢条斯理\n",
      "冲动\n",
      "任性\n",
      "神经质\n",
      "暴躁\n",
      "善变\n",
      "难以琢磨\n",
      "患得患失\n",
      "浮躁\n",
      "见异思迁\n",
      "莽撞\n",
      "易怒\n",
      "犹豫不决\n",
      "轻率\n",
      "善变\n"
     ]
    }
   ],
   "source": [
    "str = '郁郁寡欢 悲观失意 好吃懒做 疑神疑鬼 患得患失 异想天开 多愁善感 狡猾多变 贪小便宜 见异思迁 情绪多变 脾气暴躁重色轻友胆小怕事 好吃懒做 成熟稳重 幼稚调皮 温柔体贴 诚实坦白 婆婆妈妈 活泼可爱 普普通通 内向害羞 外向开朗 心地善良聪明伶俐善解人意 风趣幽默 思想开放 积极进取 小心谨慎 郁郁寡欢 正义正直 悲观失意 好吃懒做 处事洒脱 疑神疑鬼 患得患失异想天开多愁善感 淡泊名利 见利忘义 瞻前顾后 循规蹈矩 热心助人 快言快语 少言寡语 爱管闲事 追求刺激 豪放不羁 狡猾多变贪小便宜见异思迁 情绪多变 水性扬花 重色轻友 胆小怕事 积极负责 勇敢正义 聪明好学 实事求是 务实实际 老实巴交 圆滑老练脾气暴躁慢条斯理 冲动 任性 神经质 暴躁 善变 难以琢磨 患得患失 浮躁 见异思迁 莽撞 易怒 犹豫不决 轻率 善变'\n",
    "s = str.split(' ')\n",
    "print(len(s))\n",
    "for i in s:\n",
    "    print(i)"
   ]
  },
  {
   "cell_type": "code",
   "execution_count": 4,
   "metadata": {
    "collapsed": false
   },
   "outputs": [
    {
     "name": "stdout",
     "output_type": "stream",
     "text": [
      "53\n",
      "温柔\n",
      "内向\n",
      "腼腆\n",
      "害羞\n",
      "多疑\n",
      "直率\n",
      "活泼\n",
      "开朗\n",
      "滑稽\n",
      "可笑\n",
      "古怪\n",
      "怪异\n",
      "狭窄\n",
      "宽容\n",
      "猜忌\n",
      "多情\n",
      "冷淡\n",
      "热情\n",
      "放荡\n",
      "拘谨\n",
      "谨慎\n",
      "严格\n",
      "严厉\n",
      "凶残\n",
      "残忍\n",
      "无情\n",
      "懦弱\n",
      "怯弱\n",
      "卑鄙\n",
      "无耻\n",
      "下流\n",
      "无赖\n",
      "好色\n",
      "肮脏\n",
      "飘逸\n",
      "圣洁\n",
      "纯洁\n",
      "清纯\n",
      "可爱\n",
      "贤慧\n",
      "慈爱\n",
      "仁慈\n",
      "老实\n",
      "木讷\n",
      "慷慨\n",
      "大方\n",
      "随便\n",
      "暴躁\n",
      "急躁\n",
      "尖酸\n",
      "刻薄\n",
      "侠义\n",
      "忠诚\n"
     ]
    }
   ],
   "source": [
    "str = '温柔、内向、腼腆、害羞、多疑、直率、活泼、开朗、滑稽、可笑、古怪、怪异、狭窄、宽容、猜忌、多情、冷淡、热情、放荡、拘谨、谨慎、严格、严厉、凶残、残忍、无情、懦弱、怯弱、卑鄙、无耻、下流、无赖、好色、肮脏、飘逸、圣洁、纯洁、清纯、可爱、贤慧、慈爱、仁慈、老实、木讷、慷慨、大方、随便、暴躁、急躁、尖酸、刻薄、侠义、忠诚'\n",
    "\n",
    "s = str.split('、')\n",
    "print(len(s))\n",
    "for i in s:\n",
    "    print(i)\n"
   ]
  },
  {
   "cell_type": "markdown",
   "metadata": {},
   "source": [
    "### <a id='2'>2. 文件批量改名</a>  (<a href='#0'>返回</a>)"
   ]
  },
  {
   "cell_type": "code",
   "execution_count": 2,
   "metadata": {
    "collapsed": false,
    "scrolled": true
   },
   "outputs": [
    {
     "name": "stdout",
     "output_type": "stream",
     "text": [
      "dblp_r=1667_m=2_brute[10000000,14999999]\n",
      "dblp_r=1667_m=2_brute[45000000,49994999]\n",
      "dblp_r=1667_m=2_brute[15000000,19999999]\n",
      "dblp_r=1667_m=2_brute[0,4999999]\n",
      "dblp_r=1667_m=2_brute[40000000,44999999]\n",
      "dblp_r=1667_m=2_brute[20000000,24999999]\n",
      "dblp_r=1667_m=2_brute[35000000,39999999]\n",
      "dblp_r=1667_m=2_brute[5000000,9999999]\n",
      "dblp_r=1667_m=2_brute[25000000,29999999]\n",
      "dblp_r=1667_m=2_brute[30000000,34999999]\n"
     ]
    }
   ],
   "source": [
    "import os\n",
    "\n",
    "# folder_path = '/Users/zsy/Library/Mobile Documents/27N4MQEA55~pro~writer/Documents/_blog/_blog_serious'\n",
    "# folder_path = '/Users/zsy/Desktop/liverpool/observation6_5000figs_alpha15/'\n",
    "folder_path = '/Users/zsy/Desktop/TKDE/exp_tkde/result_log_tkde/dblp_r=1667_m=2_d=0.3_tau=0.7_brute'\n",
    "file_list = os.listdir(folder_path)\n",
    "for file in file_list:\n",
    "    print(file)"
   ]
  },
  {
   "cell_type": "code",
   "execution_count": 14,
   "metadata": {
    "collapsed": false
   },
   "outputs": [
    {
     "name": "stdout",
     "output_type": "stream",
     "text": [
      "CHEUNG-Yu Shing-1155109581\n",
      "Exam paper_1155109581_sent_by_email\n",
      "CHEUNG-Wing Man Julianna-1155131234\n",
      "Exam paper_1155131234_sent_by_email\n",
      "CHAN-Yu Hin Matthew-1155109832 cover bb\n",
      "Exam paper_1155109832_sent_by_email\n",
      "CHIU-Chi Keung-1155109788\n",
      "Exam paper_1155109788_sent_by_email\n",
      "CHEUNG-Sam Ki-1155131407\n",
      "Exam paper_1155131407_sent_by_email\n",
      "CHAN-Wai Ying-1155094470\n",
      "Exam paper_1155094470_sent_by_email\n",
      "KUNG-Mik Kei-1155108503\n",
      "Exam paper_1155108503_sent_by_email\n",
      "HUANG-Xuyixuan-1155141513\n",
      "Exam paper_1155141513_sent_by_email\n"
     ]
    }
   ],
   "source": [
    "import os\n",
    "folder_path = '/Users/zsy/Desktop/FINAL1205/paper email'\n",
    "os.chdir(folder_path) \n",
    "file_list = os.listdir(folder_path)\n",
    "for file in file_list:\n",
    "    if '-1' not in file:\n",
    "        continue\n",
    "    print(file)\n",
    "    left = int(file.index('-1'))\n",
    "    sid = file[left+1:left+11]\n",
    "    newname = 'Exam paper_' + sid + '_sent_by_email'\n",
    "    print(newname)\n",
    "    os.rename(file,newname)"
   ]
  },
  {
   "cell_type": "code",
   "execution_count": 8,
   "metadata": {
    "collapsed": false
   },
   "outputs": [
    {
     "name": "stdout",
     "output_type": "stream",
     "text": [
      "------- CHOW-Kwan Ting Jeremy-1155110776\n",
      "Exam paper_1155110776_attempt_2020-12-05-11-46-01.txt\n",
      "CHOW-Kwan Ting Jeremy-1155110776 paper_1155110776_attempt_2020-12-05-11-46-01.txt\n",
      "Exam paper_1155110776_attempt_2020-12-05-11-46-01_2040 Final.pdf\n",
      "CHOW-Kwan Ting Jeremy-1155110776 paper_1155110776_attempt_2020-12-05-11-46-01_2040 Final.pdf\n",
      "------- CUI-Yuqing-1155124597\n",
      "Exam paper_1155124597_attempt_2020-12-05-11-45-12.txt\n",
      "CUI-Yuqing-1155124597 paper_1155124597_attempt_2020-12-05-11-45-12.txt\n",
      "Exam paper_1155124597_attempt_2020-12-05-11-45-12_CUI Yuqing 1155124597.pdf\n",
      "CUI-Yuqing-1155124597 paper_1155124597_attempt_2020-12-05-11-45-12_CUI Yuqing 1155124597.pdf\n",
      "------- CHAN-Yu Hin Matthew-1155109832\n",
      "Exam paper_1155109832_email_cover_BB\n",
      "CHAN-Yu Hin Matthew-1155109832 paper_1155109832_email_cover_BB\n",
      "Exam paper_1155109832_attempt_2020-12-05-11-44-32.txt\n",
      "CHAN-Yu Hin Matthew-1155109832 paper_1155109832_attempt_2020-12-05-11-44-32.txt\n",
      "Exam paper_1155109832_attempt_2020-12-05-11-44-32_IMG_2033.MOV\n",
      "CHAN-Yu Hin Matthew-1155109832 paper_1155109832_attempt_2020-12-05-11-44-32_IMG_2033.MOV\n",
      "Exam paper_1155109832_attempt_2020-12-05-11-44-32_IMG_2035.MOV\n",
      "CHAN-Yu Hin Matthew-1155109832 paper_1155109832_attempt_2020-12-05-11-44-32_IMG_2035.MOV\n",
      "Exam paper_1155109832_attempt_2020-12-05-11-44-32_IMG_2034.MOV\n",
      "CHAN-Yu Hin Matthew-1155109832 paper_1155109832_attempt_2020-12-05-11-44-32_IMG_2034.MOV\n",
      "------- CHAU-Chung Lai Matthew-1155110464\n",
      "Exam paper_1155110464_attempt_2020-12-05-11-43-58_csci2040exam.pdf\n",
      "CHAU-Chung Lai Matthew-1155110464 paper_1155110464_attempt_2020-12-05-11-43-58_csci2040exam.pdf\n",
      "Exam paper_1155110464_attempt_2020-12-05-11-43-58.txt\n",
      "CHAU-Chung Lai Matthew-1155110464 paper_1155110464_attempt_2020-12-05-11-43-58.txt\n",
      "------- CHIN-Yat Wa-1155109964\n",
      "Exam paper_1155109964_attempt_2020-12-05-11-46-16.txt\n",
      "CHIN-Yat Wa-1155109964 paper_1155109964_attempt_2020-12-05-11-46-16.txt\n",
      "Exam paper_1155109964_attempt_2020-12-05-11-46-16_掃描 2020年12月5日 (2).pdf\n",
      "CHIN-Yat Wa-1155109964 paper_1155109964_attempt_2020-12-05-11-46-16_掃描 2020年12月5日 (2).pdf\n",
      "------- HUNG-Yiu Pan-1155108381\n",
      "Exam paper_1155108381_attempt_2020-12-05-11-46-33.txt\n",
      "HUNG-Yiu Pan-1155108381 paper_1155108381_attempt_2020-12-05-11-46-33.txt\n",
      "Exam paper_1155108381_attempt_2020-12-05-11-46-33_CamScanner 12-05-2020 11.42.pdf\n",
      "HUNG-Yiu Pan-1155108381 paper_1155108381_attempt_2020-12-05-11-46-33_CamScanner 12-05-2020 11.42.pdf\n",
      "------- CHEUNG-Pui Kin-1155113859\n",
      "Exam paper_1155113859_attempt_2020-12-05-11-45-21_023c2733_aee3_4b36_b38e_337b63633d47.pdf\n",
      "CHEUNG-Pui Kin-1155113859 paper_1155113859_attempt_2020-12-05-11-45-21_023c2733_aee3_4b36_b38e_337b63633d47.pdf\n",
      "Exam paper_1155113859_attempt_2020-12-05-11-45-21.txt\n",
      "CHEUNG-Pui Kin-1155113859 paper_1155113859_attempt_2020-12-05-11-45-21.txt\n",
      "------- HO-Tsz Yan-1155108972\n",
      "Exam paper_1155108972_attempt_2020-12-05-11-43-26_20201205_114249.jpg\n",
      "HO-Tsz Yan-1155108972 paper_1155108972_attempt_2020-12-05-11-43-26_20201205_114249.jpg\n",
      "Exam paper_1155108972_attempt_2020-12-05-11-43-26_20201205_114255.jpg\n",
      "HO-Tsz Yan-1155108972 paper_1155108972_attempt_2020-12-05-11-43-26_20201205_114255.jpg\n",
      "Exam paper_1155108972_attempt_2020-12-05-11-43-26.txt\n",
      "HO-Tsz Yan-1155108972 paper_1155108972_attempt_2020-12-05-11-43-26.txt\n",
      "------- CHAN-Chun Ho-1155093313\n",
      "Exam paper_1155093313_attempt_2020-12-05-11-42-16_86E724B0-2E6A-428C-86EC-83A009F85DEE.jpeg\n",
      "CHAN-Chun Ho-1155093313 paper_1155093313_attempt_2020-12-05-11-42-16_86E724B0-2E6A-428C-86EC-83A009F85DEE.jpeg\n",
      "Exam paper_1155093313_attempt_2020-12-05-11-42-16.txt\n",
      "CHAN-Chun Ho-1155093313 paper_1155093313_attempt_2020-12-05-11-42-16.txt\n",
      "Exam paper_1155093313_attempt_2020-12-05-11-42-16_FD3F57A8-7562-4524-B8ED-DA7D8D9AFD92.jpeg\n",
      "CHAN-Chun Ho-1155093313 paper_1155093313_attempt_2020-12-05-11-42-16_FD3F57A8-7562-4524-B8ED-DA7D8D9AFD92.jpeg\n",
      "------- CHEUNG-Tsz Ho-1155102444\n",
      "Exam paper_1155102444_attempt_2020-12-05-11-44-24.txt\n",
      "CHEUNG-Tsz Ho-1155102444 paper_1155102444_attempt_2020-12-05-11-44-24.txt\n",
      "Exam paper_1155102444_attempt_2020-12-05-11-44-24_CSCI2040A Final Exam.pdf\n",
      "CHEUNG-Tsz Ho-1155102444 paper_1155102444_attempt_2020-12-05-11-44-24_CSCI2040A Final CHEUNG-Tsz Ho-1155102444.pdf\n",
      "------- CHEUNG-Yu Shing-1155109581\n",
      "Exam paper_1155109581_attempt_2020-12-05-11-44-15_page3.jpeg\n",
      "CHEUNG-Yu Shing-1155109581 paper_1155109581_attempt_2020-12-05-11-44-15_page3.jpeg\n",
      "Exam paper_1155109581_attempt_2020-12-05-11-44-15_page2.jpeg\n",
      "CHEUNG-Yu Shing-1155109581 paper_1155109581_attempt_2020-12-05-11-44-15_page2.jpeg\n",
      "Exam paper_1155109581_email_cover_BB\n",
      "CHEUNG-Yu Shing-1155109581 paper_1155109581_email_cover_BB\n",
      "Exam paper_1155109581_attempt_2020-12-05-11-44-15_page1.jpeg\n",
      "CHEUNG-Yu Shing-1155109581 paper_1155109581_attempt_2020-12-05-11-44-15_page1.jpeg\n",
      "Exam paper_1155109581_attempt_2020-12-05-11-44-15.txt\n",
      "CHEUNG-Yu Shing-1155109581 paper_1155109581_attempt_2020-12-05-11-44-15.txt\n",
      "------- HAN-Xinyu-1155092126\n",
      "Exam paper_1155092126_email_cover_BB\n",
      "HAN-Xinyu-1155092126 paper_1155092126_email_cover_BB\n",
      "------- KONG-Yiu Lun-1155126013\n",
      "Exam paper_1155126013_attempt_2020-12-05-11-45-25.txt\n",
      "KONG-Yiu Lun-1155126013 paper_1155126013_attempt_2020-12-05-11-45-25.txt\n",
      "Exam paper_1155126013_attempt_2020-12-05-11-45-25_掃描全能王 12-05-2020 11.41.pdf\n",
      "KONG-Yiu Lun-1155126013 paper_1155126013_attempt_2020-12-05-11-45-25_掃描全能王 12-05-2020 11.41.pdf\n",
      "------- HO-Tsz Ngong-1155124840\n",
      "Exam paper_1155124840_attempt_2020-12-05-11-43-50_CSCI2040_final_1155124840_HOTszNgong_PaperA.pdf\n",
      "HO-Tsz Ngong-1155124840 paper_1155124840_attempt_2020-12-05-11-43-50_CSCI2040_final_1155124840_HOTszNgong_PaperA.pdf\n",
      "Exam paper_1155124840_attempt_2020-12-05-11-43-50.txt\n",
      "HO-Tsz Ngong-1155124840 paper_1155124840_attempt_2020-12-05-11-43-50.txt\n",
      "------- CHAN-Hon Fai-1155148701\n",
      "Exam paper_1155148701_attempt_2020-12-05-11-49-02_1155148701_CSCI2040_MT (4).jpg\n",
      "CHAN-Hon Fai-1155148701 paper_1155148701_attempt_2020-12-05-11-49-02_1155148701_CSCI2040_MT (4).jpg\n",
      "Exam paper_1155148701_attempt_2020-12-05-11-49-02_1155148701_CSCI2040_MT (5).jpg\n",
      "CHAN-Hon Fai-1155148701 paper_1155148701_attempt_2020-12-05-11-49-02_1155148701_CSCI2040_MT (5).jpg\n",
      "Exam paper_1155148701_attempt_2020-12-05-11-49-02_1155148701_CSCI2040_MT (2).jpg\n",
      "CHAN-Hon Fai-1155148701 paper_1155148701_attempt_2020-12-05-11-49-02_1155148701_CSCI2040_MT (2).jpg\n",
      "Exam paper_1155148701_attempt_2020-12-05-11-49-02_1155148701_CSCI2040_MT (3).jpg\n",
      "CHAN-Hon Fai-1155148701 paper_1155148701_attempt_2020-12-05-11-49-02_1155148701_CSCI2040_MT (3).jpg\n",
      "Exam paper_1155148701_attempt_2020-12-05-11-49-02_1155148701_CSCI2040_MT (1).jpg\n",
      "CHAN-Hon Fai-1155148701 paper_1155148701_attempt_2020-12-05-11-49-02_1155148701_CSCI2040_MT (1).jpg\n",
      "Exam paper_1155148701_attempt_2020-12-05-11-49-02_1155148701_CSCI2040_MT (6).jpg\n",
      "CHAN-Hon Fai-1155148701 paper_1155148701_attempt_2020-12-05-11-49-02_1155148701_CSCI2040_MT (6).jpg\n",
      "Exam paper_1155148701_attempt_2020-12-05-11-49-02.txt\n",
      "CHAN-Hon Fai-1155148701 paper_1155148701_attempt_2020-12-05-11-49-02.txt\n",
      "------- KAT-Tsz Yin-1155110364\n",
      "Exam paper_1155110364_attempt_2020-12-05-11-47-27.txt\n",
      "KAT-Tsz Yin-1155110364 paper_1155110364_attempt_2020-12-05-11-47-27.txt\n",
      "Exam paper_1155110364_attempt_2020-12-05-11-47-27_2040final.pdf\n",
      "KAT-Tsz Yin-1155110364 paper_1155110364_attempt_2020-12-05-11-47-27_2040final.pdf\n",
      "------- CHEUNG-Wing Man Julianna-1155131234\n",
      "Exam paper_1155131234_attempt_2020-12-05-11-45-23.txt\n",
      "CHEUNG-Wing Man Julianna-1155131234 paper_1155131234_attempt_2020-12-05-11-45-23.txt\n",
      "Exam paper_1155131234_attempt_2020-12-05-11-45-23_1155131234csci2040.pdf\n",
      "CHEUNG-Wing Man Julianna-1155131234 paper_1155131234_attempt_2020-12-05-11-45-23_1155131234csci2040.pdf\n",
      "------- CHEUNG-Ka Wai-1155110140\n",
      "Exam paper_1155110140_attempt_2020-12-05-11-43-32_Scanned Pages.pdf\n",
      "CHEUNG-Ka Wai-1155110140 paper_1155110140_attempt_2020-12-05-11-43-32_Scanned Pages.pdf\n",
      "Exam paper_1155110140_attempt_2020-12-05-11-43-32.txt\n",
      "CHEUNG-Ka Wai-1155110140 paper_1155110140_attempt_2020-12-05-11-43-32.txt\n",
      "------- CHEUNG-Chun Ho-1155108872\n",
      "Exam paper_1155108872_attempt_2020-12-05-11-45-36_IMG_6520.JPG\n",
      "CHEUNG-Chun Ho-1155108872 paper_1155108872_attempt_2020-12-05-11-45-36_IMG_6520.JPG\n",
      "Exam paper_1155108872_attempt_2020-12-05-11-45-36_IMG_6519.JPG\n",
      "CHEUNG-Chun Ho-1155108872 paper_1155108872_attempt_2020-12-05-11-45-36_IMG_6519.JPG\n",
      "Exam paper_1155108872_attempt_2020-12-05-11-45-36.txt\n",
      "CHEUNG-Chun Ho-1155108872 paper_1155108872_attempt_2020-12-05-11-45-36.txt\n",
      "------- CHEUNG-Ching Yin-1155109885\n",
      "Exam paper_1155109885_attempt_2020-12-05-11-44-57.txt\n",
      "CHEUNG-Ching Yin-1155109885 paper_1155109885_attempt_2020-12-05-11-44-57.txt\n",
      "Exam paper_1155109885_attempt_2020-12-05-11-44-57_2040exam.pdf\n",
      "CHEUNG-Ching Yin-1155109885 paper_1155109885_attempt_2020-12-05-11-44-57_2040exam.pdf\n",
      "------- CHENG-Wing Sun-1155109367\n",
      "Exam paper_1155109367_attempt_2020-12-05-11-48-22_IMG_20201205_0002.pdf\n",
      "CHENG-Wing Sun-1155109367 paper_1155109367_attempt_2020-12-05-11-48-22_IMG_20201205_0002.pdf\n",
      "Exam paper_1155109367_attempt_2020-12-05-11-48-22.txt\n",
      "CHENG-Wing Sun-1155109367 paper_1155109367_attempt_2020-12-05-11-48-22.txt\n",
      "------- CHIU-Chi Keung-1155109788\n",
      "Exam paper_1155109788_attempt_2020-12-05-11-49-05_IMG_3885.jpg\n",
      "CHIU-Chi Keung-1155109788 paper_1155109788_attempt_2020-12-05-11-49-05_IMG_3885.jpg\n",
      "Exam paper_1155109788_attempt_2020-12-05-11-49-05_IMG_3884.jpg\n",
      "CHIU-Chi Keung-1155109788 paper_1155109788_attempt_2020-12-05-11-49-05_IMG_3884.jpg\n",
      "Exam paper_1155109788_attempt_2020-12-05-11-49-05.txt\n",
      "CHIU-Chi Keung-1155109788 paper_1155109788_attempt_2020-12-05-11-49-05.txt\n",
      "Exam paper_1155109788_attempt_2020-12-05-11-49-05_IMG_3886.jpg\n",
      "CHIU-Chi Keung-1155109788 paper_1155109788_attempt_2020-12-05-11-49-05_IMG_3886.jpg\n",
      "Exam paper_1155109788_attempt_2020-12-05-11-49-05_IMG_3883.jpg\n",
      "CHIU-Chi Keung-1155109788 paper_1155109788_attempt_2020-12-05-11-49-05_IMG_3883.jpg\n",
      "Exam paper_1155109788_attempt_2020-12-05-11-49-05_IMG_3882.jpg\n",
      "CHIU-Chi Keung-1155109788 paper_1155109788_attempt_2020-12-05-11-49-05_IMG_3882.jpg\n",
      "Exam paper_1155109788_attempt_2020-12-05-11-49-05_IMG_3881.jpg\n",
      "CHIU-Chi Keung-1155109788 paper_1155109788_attempt_2020-12-05-11-49-05_IMG_3881.jpg\n",
      "Exam paper_1155109788_email_cover_BB\n",
      "CHIU-Chi Keung-1155109788 paper_1155109788_email_cover_BB\n",
      "------- CHANG-Chun Yuen-1155108250\n",
      "Exam paper_1155108250_attempt_2020-12-05-11-45-16_2020-12-05_114218.jpg\n",
      "CHANG-Chun Yuen-1155108250 paper_1155108250_attempt_2020-12-05-11-45-16_2020-12-05_114218.jpg\n",
      "Exam paper_1155108250_attempt_2020-12-05-11-45-16_2020-12-05_114409.jpg\n",
      "CHANG-Chun Yuen-1155108250 paper_1155108250_attempt_2020-12-05-11-45-16_2020-12-05_114409.jpg\n",
      "Exam paper_1155108250_attempt_2020-12-05-11-45-16.txt\n",
      "CHANG-Chun Yuen-1155108250 paper_1155108250_attempt_2020-12-05-11-45-16.txt\n",
      "Exam paper_1155108250_attempt_2020-12-05-11-45-16_2020-12-05_114316.jpg\n",
      "CHANG-Chun Yuen-1155108250 paper_1155108250_attempt_2020-12-05-11-45-16_2020-12-05_114316.jpg\n",
      "------- CHOW-Tsz Hong-1155108769\n",
      "Exam paper_1155108769_attempt_2020-12-05-11-45-41.txt\n",
      "CHOW-Tsz Hong-1155108769 paper_1155108769_attempt_2020-12-05-11-45-41.txt\n",
      "Exam paper_1155108769_attempt_2020-12-05-11-45-41_IMG_0349.JPG\n",
      "CHOW-Tsz Hong-1155108769 paper_1155108769_attempt_2020-12-05-11-45-41_IMG_0349.JPG\n",
      "Exam paper_1155108769_attempt_2020-12-05-11-45-41_IMG_0348.JPG\n",
      "CHOW-Tsz Hong-1155108769 paper_1155108769_attempt_2020-12-05-11-45-41_IMG_0348.JPG\n",
      "Exam paper_1155108769_attempt_2020-12-05-11-45-41_IMG_0346.JPG\n",
      "CHOW-Tsz Hong-1155108769 paper_1155108769_attempt_2020-12-05-11-45-41_IMG_0346.JPG\n",
      "Exam paper_1155108769_attempt_2020-12-05-11-45-41_IMG_0347.JPG\n",
      "CHOW-Tsz Hong-1155108769 paper_1155108769_attempt_2020-12-05-11-45-41_IMG_0347.JPG\n",
      "Exam paper_1155108769_attempt_2020-12-05-11-45-41_IMG_0350.JPG\n",
      "CHOW-Tsz Hong-1155108769 paper_1155108769_attempt_2020-12-05-11-45-41_IMG_0350.JPG\n",
      "------- CHEUNG-Sam Ki-1155131407\n",
      "Exam paper_1155131407_attempt_2020-12-05-11-43-37.txt\n",
      "CHEUNG-Sam Ki-1155131407 paper_1155131407_attempt_2020-12-05-11-43-37.txt\n",
      "Exam paper_1155131407_attempt_2020-12-05-11-43-37_21B41022-CC7E-4BB8-BFC2-3753DD3081B8.jpeg\n",
      "CHEUNG-Sam Ki-1155131407 paper_1155131407_attempt_2020-12-05-11-43-37_21B41022-CC7E-4BB8-BFC2-3753DD3081B8.jpeg\n",
      "Exam paper_1155131407_attempt_2020-12-05-11-43-37_CD89F9BA-86AD-4EA7-B5AA-24326BE2170D.jpeg\n",
      "CHEUNG-Sam Ki-1155131407 paper_1155131407_attempt_2020-12-05-11-43-37_CD89F9BA-86AD-4EA7-B5AA-24326BE2170D.jpeg\n",
      "Exam paper_1155131407_attempt_2020-12-05-11-43-37_EC6C0509-B392-4995-892F-8D19828698AD.jpeg\n",
      "CHEUNG-Sam Ki-1155131407 paper_1155131407_attempt_2020-12-05-11-43-37_EC6C0509-B392-4995-892F-8D19828698AD.jpeg\n",
      "Exam paper_1155131407_attempt_2020-12-05-11-43-37_86C3A687-BEF2-43B4-B2B5-927C86AFD35E.jpeg\n",
      "CHEUNG-Sam Ki-1155131407 paper_1155131407_attempt_2020-12-05-11-43-37_86C3A687-BEF2-43B4-B2B5-927C86AFD35E.jpeg\n",
      "Exam paper_1155131407_email_cover_BB\n",
      "CHEUNG-Sam Ki-1155131407 paper_1155131407_email_cover_BB\n",
      "Exam paper_1155131407_attempt_2020-12-05-11-43-37_C1FABD95-7DBF-4175-B989-EC1B6766B39E.jpeg\n",
      "CHEUNG-Sam Ki-1155131407 paper_1155131407_attempt_2020-12-05-11-43-37_C1FABD95-7DBF-4175-B989-EC1B6766B39E.jpeg\n",
      "------- CHAN-Kin Yeung-1155142368\n",
      "Exam paper_1155142368_attempt_2020-12-05-11-43-38.txt\n",
      "CHAN-Kin Yeung-1155142368 paper_1155142368_attempt_2020-12-05-11-43-38.txt\n",
      "Exam paper_1155142368_attempt_2020-12-05-11-43-38_2040final_1155142368.pdf\n",
      "CHAN-Kin Yeung-1155142368 paper_1155142368_attempt_2020-12-05-11-43-38_2040final_1155142368.pdf\n",
      "------- CHEUNG-Chun Hung-1155109321\n",
      "Exam paper_1155109321_attempt_2020-12-05-11-44-47.txt\n",
      "CHEUNG-Chun Hung-1155109321 paper_1155109321_attempt_2020-12-05-11-44-47.txt\n",
      "Exam paper_1155109321_attempt_2020-12-05-11-44-47_IMG_5084.JPG\n",
      "CHEUNG-Chun Hung-1155109321 paper_1155109321_attempt_2020-12-05-11-44-47_IMG_5084.JPG\n",
      "Exam paper_1155109321_attempt_2020-12-05-11-44-47_IMG_5083.JPG\n",
      "CHEUNG-Chun Hung-1155109321 paper_1155109321_attempt_2020-12-05-11-44-47_IMG_5083.JPG\n",
      "Exam paper_1155109321_attempt_2020-12-05-11-44-47_IMG_5082.JPG\n",
      "CHEUNG-Chun Hung-1155109321 paper_1155109321_attempt_2020-12-05-11-44-47_IMG_5082.JPG\n",
      "------- CHOW-Man Chun-1155108980\n",
      "Exam paper_1155108980_attempt_2020-12-05-11-46-00.txt\n",
      "CHOW-Man Chun-1155108980 paper_1155108980_attempt_2020-12-05-11-46-00.txt\n",
      "Exam paper_1155108980_attempt_2020-12-05-11-46-00_4122020 2326 Office Lens 1.pdf\n",
      "CHOW-Man Chun-1155108980 paper_1155108980_attempt_2020-12-05-11-46-00_4122020 2326 Office Lens 1.pdf\n",
      "------- CHEUNG-Ngai Fan-1155110414\n",
      "Exam paper_1155110414_attempt_2020-12-05-11-45-05.txt\n",
      "CHEUNG-Ngai Fan-1155110414 paper_1155110414_attempt_2020-12-05-11-45-05.txt\n",
      "Exam paper_1155110414_attempt_2020-12-05-11-45-05_IMG_8744.jpg\n",
      "CHEUNG-Ngai Fan-1155110414 paper_1155110414_attempt_2020-12-05-11-45-05_IMG_8744.jpg\n",
      "Exam paper_1155110414_attempt_2020-12-05-11-45-05_IMG_8742.jpg\n",
      "CHEUNG-Ngai Fan-1155110414 paper_1155110414_attempt_2020-12-05-11-45-05_IMG_8742.jpg\n",
      "Exam paper_1155110414_attempt_2020-12-05-11-45-05_IMG_8743.jpg\n",
      "CHEUNG-Ngai Fan-1155110414 paper_1155110414_attempt_2020-12-05-11-45-05_IMG_8743.jpg\n",
      "Exam paper_1155110414_attempt_2020-12-05-11-45-05_IMG_8741.jpg\n",
      "CHEUNG-Ngai Fan-1155110414 paper_1155110414_attempt_2020-12-05-11-45-05_IMG_8741.jpg\n",
      "------- HO-Tino-1155110147\n",
      "Exam paper_1155110147_attempt_2020-12-05-11-44-21_CSCI2040FinalExam_1155110147.pdf\n",
      "HO-Tino-1155110147 paper_1155110147_attempt_2020-12-05-11-44-21_CSCI2040FinalHO-Tino-1155110147_1155110147.pdf\n",
      "Exam paper_1155110147_attempt_2020-12-05-11-44-21.txt\n",
      "HO-Tino-1155110147 paper_1155110147_attempt_2020-12-05-11-44-21.txt\n",
      "------- FUNG-Siu Yin-1155109079\n",
      "Exam paper_1155109079_attempt_2020-12-05-11-44-45_CSCI2040_Exam_1155109079.pdf\n",
      "FUNG-Siu Yin-1155109079 paper_1155109079_attempt_2020-12-05-11-44-45_CSCI2040_FUNG-Siu Yin-1155109079_1155109079.pdf\n",
      "Exam paper_1155109079_attempt_2020-12-05-11-44-45.txt\n",
      "FUNG-Siu Yin-1155109079 paper_1155109079_attempt_2020-12-05-11-44-45.txt\n",
      "------- CHAN-Wai Ying-1155094470\n",
      "Exam paper_1155094470_email_cover_BB\n",
      "CHAN-Wai Ying-1155094470 paper_1155094470_email_cover_BB\n",
      "Exam paper_1155094470_attempt_2020-12-05-11-48-55_TapScanner 12-05-2020-11.42.pdf\n",
      "CHAN-Wai Ying-1155094470 paper_1155094470_attempt_2020-12-05-11-48-55_TapScanner 12-05-2020-11.42.pdf\n",
      "Exam paper_1155094470_attempt_2020-12-05-11-48-55.txt\n",
      "CHAN-Wai Ying-1155094470 paper_1155094470_attempt_2020-12-05-11-48-55.txt\n",
      "------- KUNG-Mik Kei-1155108503\n",
      "Exam paper_1155108503_email_cover_BB\n",
      "KUNG-Mik Kei-1155108503 paper_1155108503_email_cover_BB\n",
      "------- HUANG-Xuyixuan-1155141513\n",
      "Exam paper_1155141513_email_cover_BB\n",
      "HUANG-Xuyixuan-1155141513 paper_1155141513_email_cover_BB\n",
      "Exam paper_1155141513_attempt_2020-12-05-11-50-57.txt\n",
      "HUANG-Xuyixuan-1155141513 paper_1155141513_attempt_2020-12-05-11-50-57.txt\n",
      "Exam paper_1155141513_attempt_2020-12-05-11-50-57_cs final.pdf\n",
      "HUANG-Xuyixuan-1155141513 paper_1155141513_attempt_2020-12-05-11-50-57_cs final.pdf\n",
      "------- CHOW-Wang Faat-1155115793\n",
      "Exam paper_1155115793_attempt_2020-12-05-11-47-06_2020_12_05_上午11_43_Office_Lens.pdf\n",
      "CHOW-Wang Faat-1155115793 paper_1155115793_attempt_2020-12-05-11-47-06_2020_12_05_上午11_43_Office_Lens.pdf\n",
      "Exam paper_1155115793_attempt_2020-12-05-11-47-06.txt\n",
      "CHOW-Wang Faat-1155115793 paper_1155115793_attempt_2020-12-05-11-47-06.txt\n",
      "------- CHENG-Man Lik-1155093291\n",
      "Exam paper_1155093291_attempt_2020-12-05-11-43-33_CSCI2040 final exam submission.pdf\n",
      "CHENG-Man Lik-1155093291 paper_1155093291_attempt_2020-12-05-11-43-33_CSCI2040 final exam submission.pdf\n",
      "Exam paper_1155093291_attempt_2020-12-05-11-43-33.txt\n",
      "CHENG-Man Lik-1155093291 paper_1155093291_attempt_2020-12-05-11-43-33.txt\n"
     ]
    }
   ],
   "source": [
    "# 2020 1222 T \n",
    "def change_name_of_whole_file(sid, newname):\n",
    "    folder_path_1 = '/Users/zsy/Desktop/csci2040A_gradebook'\n",
    "    os.chdir(folder_path_1) \n",
    "    file_list = os.listdir(folder_path_1)\n",
    "    for file in file_list:\n",
    "        if sid in file:\n",
    "            print(file)\n",
    "            new = file.replace('Exam',newname)\n",
    "            print(new)\n",
    "            os.rename(file,new)\n",
    "            \n",
    "#             new_name = file.replace('Exam',newname)\n",
    "#             print(new_name)\n",
    "import os\n",
    "folder_path_2 = '/Users/zsy/Desktop/screenshot'\n",
    "file_list = os.listdir(folder_path_2)\n",
    "for file in file_list:\n",
    "    if '-1' not in file:\n",
    "        continue\n",
    "    print('-------',file)\n",
    "    left = int(file.index('-1'))\n",
    "    sid = file[left+1:left+11]\n",
    "    change_name_of_whole_file(sid, file)"
   ]
  },
  {
   "cell_type": "code",
   "execution_count": 12,
   "metadata": {
    "collapsed": false
   },
   "outputs": [
    {
     "ename": "NameError",
     "evalue": "name 'folder_path' is not defined",
     "output_type": "error",
     "traceback": [
      "\u001b[0;31m---------------------------------------------------------------------------\u001b[0m",
      "\u001b[0;31mNameError\u001b[0m                                 Traceback (most recent call last)",
      "\u001b[0;32m<ipython-input-12-a6cb4ba77f40>\u001b[0m in \u001b[0;36m<module>\u001b[0;34m()\u001b[0m\n\u001b[1;32m      1\u001b[0m \u001b[0;31m# 切换到当前文件夹路径下\u001b[0m\u001b[0;34m\u001b[0m\u001b[0;34m\u001b[0m\u001b[0;34m\u001b[0m\u001b[0m\n\u001b[0;32m----> 2\u001b[0;31m \u001b[0mos\u001b[0m\u001b[0;34m.\u001b[0m\u001b[0mchdir\u001b[0m\u001b[0;34m(\u001b[0m\u001b[0mfolder_path\u001b[0m\u001b[0;34m)\u001b[0m\u001b[0;34m\u001b[0m\u001b[0;34m\u001b[0m\u001b[0m\n\u001b[0m\u001b[1;32m      3\u001b[0m \u001b[0mcount\u001b[0m \u001b[0;34m=\u001b[0m \u001b[0;36m0\u001b[0m\u001b[0;34m\u001b[0m\u001b[0;34m\u001b[0m\u001b[0m\n\u001b[1;32m      4\u001b[0m \u001b[0;32mfor\u001b[0m \u001b[0mold_name\u001b[0m \u001b[0;32min\u001b[0m \u001b[0mfile_list\u001b[0m\u001b[0;34m:\u001b[0m\u001b[0;34m\u001b[0m\u001b[0;34m\u001b[0m\u001b[0m\n\u001b[1;32m      5\u001b[0m     \u001b[0mnew_name\u001b[0m \u001b[0;34m=\u001b[0m \u001b[0mold_name\u001b[0m\u001b[0;34m.\u001b[0m\u001b[0mreplace\u001b[0m\u001b[0;34m(\u001b[0m\u001b[0;34m'dblp_r=1667_m=2_brute'\u001b[0m\u001b[0;34m,\u001b[0m\u001b[0;34m'dblp_r=1667_m=2_d=0.3_tau=0.7_brute'\u001b[0m\u001b[0;34m)\u001b[0m\u001b[0;34m\u001b[0m\u001b[0;34m\u001b[0m\u001b[0m\n",
      "\u001b[0;31mNameError\u001b[0m: name 'folder_path' is not defined"
     ]
    }
   ],
   "source": [
    "# 切换到当前文件夹路径下\n",
    "os.chdir(folder_path) \n",
    "count = 0\n",
    "for old_name in file_list:\n",
    "    new_name = old_name.replace('dblp_r=1667_m=2_brute','dblp_r=1667_m=2_d=0.3_tau=0.7_brute')\n",
    "    os.rename(old_name, new_name)\n",
    "    count += 1\n",
    "\n",
    "new_file_list = os.listdir(folder_path)\n",
    "# print(count)\n",
    "new_file_list\n",
    "# new_name, old_name"
   ]
  },
  {
   "cell_type": "code",
   "execution_count": 41,
   "metadata": {
    "collapsed": false,
    "scrolled": false
   },
   "outputs": [
    {
     "data": {
      "text/plain": [
       "['[res] 20190603 meeting.md',\n",
       " '[res] 20200206 什么是知识图谱.md',\n",
       " '[res] 动态.md',\n",
       " '[res] 20200202 Sun IEEE:ACM出版物.md',\n",
       " '[job] 20200125 kaggle Ashare 的题目.md',\n",
       " '[TA] 20200203 Mon tutorial2-matrix.md',\n",
       " '[res] 20200202 Sun SCI+EI+ISTP 三大重要检索系统.md',\n",
       " '[TA] 20200211 Tue tutorial2.md',\n",
       " '[TA] 20200206 简介SVM.md',\n",
       " '[res] 20191216 rebuttal for www2020.md',\n",
       " '[res] 20190800 plan and sum.md',\n",
       " '[tool] 20200104 工具使用之Zoom线上会议+屏幕录制.md',\n",
       " '[res] 20190613 review CIKM 1242.md',\n",
       " '[res] 20191000 plan and sum.md',\n",
       " '[cos] 20190917 game theory.md',\n",
       " '.DS_Store',\n",
       " '[res] 20200218 在ToDS上面看到讲MCMC的文章.md',\n",
       " '[res] 20200204 Tue 冲KDD感想 顺带打造一个paper写作ppt模板 含经验注释.md',\n",
       " '[res] 20190815 final structure.md',\n",
       " '[res] 20190617 meeting.md',\n",
       " '[job] 20200128 暑期实习2020申请情况汇总.md',\n",
       " '[TA] 20190912 csci2040 notes.md',\n",
       " '[res] 20200202 Sun 写好一篇高质量的IEEE:ACM Transaction级别的计算机科学论文.md',\n",
       " '[res] 20190405 Deep Neural Networks for YouTube Recommendation.md',\n",
       " '[res] 20190617-0624-0701-0708meeting .md',\n",
       " '[res] 20190305 学科体系 statistics.md',\n",
       " '[cos] 20200131 kaggle 七月在线课程.md',\n",
       " 'to 圆头 20200218 Tue.md',\n",
       " '[res] 20190900 plan and sum.md',\n",
       " '[res] 20200218 multi-agents RL 阅读笔记.md',\n",
       " '[tool] 20200204 latex beamer 使用技巧.md',\n",
       " '[res] 201801-201907 review.md',\n",
       " '[res] 20190510 sketch GB-KMV.md',\n",
       " '[res] 点子.md',\n",
       " 'to 圆头 20200219 Wed.md',\n",
       " '[res] 20200206 社交网络的定义.md',\n",
       " '[res] 20190605 UCB.md',\n",
       " '[res] 20190610 meeting.md',\n",
       " '[res] 20200222 拿到一个新的research topic要怎么做.md',\n",
       " '[TA] 20200211 Wed tutorial2 录制.md',\n",
       " '[res] 20190309 Multi-armed bandit problem MAB.md',\n",
       " '[tool] 20190611 list of workstations 顺手必装的应用.md',\n",
       " '[cos] 20190923 probability theory.md',\n",
       " '__毕业要求.md',\n",
       " '[res] One Feature Attribution Method to (Supposedly) Rule Them All: Shapley Values.md',\n",
       " '[tool] 20190311 cse服务器+网站搭建.md',\n",
       " '[res] 20190513 meeting.md',\n",
       " '[job] 20200202 七月在线AI学习selected课程及大纲.md',\n",
       " '[ta] 20200220 csci3320 chap2 看john的视频摘录.md',\n",
       " '[res] 20200203 Mon 统计学基础.md',\n",
       " '[job] 20200108 暑期实习2020的面试准备.md',\n",
       " '[TA] 20190929 lab1 grading 笔记.md',\n",
       " '[res] 20190518 sketch KMV .md',\n",
       " '[res] 20200104 YouTube Channel Visibility.md',\n",
       " '[res] 20190608 infocom 2020.md',\n",
       " '[res] 20190403 deep learning tutorial',\n",
       " '[res] 20200204 向Gorden介绍local clustering.md',\n",
       " '[res] 20190318 meeting.md',\n",
       " '[TA] 20190311 PCA.md',\n",
       " '[cos] 20190403 openAI gym',\n",
       " '[tool] 20200206 学术英语查询 技巧和网站.md',\n",
       " '[res] 20200208 田渊栋博士五年总结系列_PhD.pdf',\n",
       " '[res] 20200218 谢师兄的cooperation shapley.md',\n",
       " '[res] 20190510 1_statistics.md',\n",
       " '[res] 20190508 To sovle delima.md',\n",
       " '[job] 20200107 修改简历和LinkedIn profile.md',\n",
       " '[res] 20190527 meeting.md',\n",
       " '[res] 20190304 meeting.md',\n",
       " '[res] 20190606 academic 写作的一些词汇干货.md',\n",
       " '[res] 20200206 latex数学公式的几种写法的比较.md',\n",
       " '[res] 20190514 sketch my_notes.pdf',\n",
       " 'study notes',\n",
       " '[res] 20200218 Game Theory in Artificial Intelligence (Towards data science).md',\n",
       " '[res] 20190920 best-arm identificaiton.md',\n",
       " '[cos] 20191208 5350 hw3.md',\n",
       " '[res] 20190513 sketch LSH--Towards Data science.md',\n",
       " '[res] 20190610 review CIKM 924.md',\n",
       " '[res] 20190602 python 常用总结(更) .md',\n",
       " '[TA] 20191211 take-home final.md',\n",
       " '[TA] 20190320 tutorial7.md',\n",
       " '[res] 20200215 KDD2020从开工到完工.md',\n",
       " '[job] 20200202 Sun AI职业定位.md',\n",
       " '[res] 人物.md',\n",
       " '[res] 20200208 觉得自己的work毫无意义.md',\n",
       " '[res] 20191223 meeting.md',\n",
       " '[res] 20190520 meeting.md',\n",
       " '[res] 20190509 科研方法经验贴methodology.md',\n",
       " '[tool] 20190321 新装Ubuntu以及必备后续.md',\n",
       " '[TA] 20200212 tutorial2 final submit.md',\n",
       " '[res] 20190708-0715 meeting .md',\n",
       " '[res] 20200214 KDD2020中一些表述方式的集结和疑问.md',\n",
       " '[tool] RSS入门.md',\n",
       " '[res] 20200218 PRINCE.md',\n",
       " '[res] 20200222 cognitive radio.md',\n",
       " '[res] 20200211 kdd writing 需要改的地方.md',\n",
       " '[cos] 20190314 OpenAI gym.md',\n",
       " '[TA] 20190310 tutorial7',\n",
       " '[cos] 20200129 ds2020.md',\n",
       " '[res] 20190405 bandit recommandation problem.md']"
      ]
     },
     "execution_count": 41,
     "metadata": {},
     "output_type": "execute_result"
    }
   ],
   "source": [
    "# 切换到当前文件夹路径下\n",
    "os.chdir(folder_path) \n",
    "for old_name in file_list:\n",
    "    if '[research]' in old_name:\n",
    "        new_name = old_name.replace('[research]','[res]')\n",
    "        os.rename(old_name, new_name)\n",
    "    if '[course]' in old_name:\n",
    "        new_name = old_name.replace('[course]','cos')\n",
    "        os.rename(old_name, new_name)\n",
    "    \n",
    "\n",
    "new_file_list = os.listdir(folder_path)\n",
    "new_file_list"
   ]
  },
  {
   "cell_type": "markdown",
   "metadata": {},
   "source": [
    "### <a id='3'>3. 计算器</a>  (<a href='#0'>返回</a>)"
   ]
  },
  {
   "cell_type": "code",
   "execution_count": 42,
   "metadata": {
    "collapsed": false,
    "scrolled": true
   },
   "outputs": [
    {
     "data": {
      "text/plain": [
       "0.006620483364032633"
      ]
     },
     "execution_count": 42,
     "metadata": {},
     "output_type": "execute_result"
    }
   ],
   "source": [
    "import math\n",
    "a1 = math.factorial(120)\n",
    "a2 = math.factorial(120-48)\n",
    "a3 = math.factorial(48)\n",
    "answer = a1/(a2*a3)/(2**120)\n",
    "answer"
   ]
  },
  {
   "cell_type": "code",
   "execution_count": 43,
   "metadata": {
    "collapsed": false,
    "scrolled": true
   },
   "outputs": [
    {
     "data": {
      "text/plain": [
       "0.006620483364032633"
      ]
     },
     "execution_count": 43,
     "metadata": {},
     "output_type": "execute_result"
    }
   ],
   "source": [
    "from scipy.special import comb, perm\n",
    "perm(4,2)\n",
    "comb(6,2)\n",
    "comb(120,48)/(2**120)"
   ]
  },
  {
   "cell_type": "code",
   "execution_count": 12,
   "metadata": {
    "collapsed": false,
    "scrolled": true
   },
   "outputs": [
    {
     "data": {
      "text/plain": [
       "-2.409420839653209"
      ]
     },
     "execution_count": 12,
     "metadata": {},
     "output_type": "execute_result"
    }
   ],
   "source": [
    "import math\n",
    "# 1.0/(math.log(0.75))\n",
    "# math.log10(0.5)/math.log10(0.75) \n",
    "1/math.log2(0.75) "
   ]
  },
  {
   "cell_type": "markdown",
   "metadata": {},
   "source": [
    "### <a id='4'>4. youtube字幕转成文章</a>  (<a href='#0'>返回</a>)"
   ]
  },
  {
   "cell_type": "markdown",
   "metadata": {},
   "source": [
    "文件的读写操作默认使用系统编码，可以通过调用 sys.getdefaultencoding() 来得到，在大多数机器上面都是utf-8编码。\n",
    "如果你已经知道你要读写的文本是其他编码方式， 那么可以通过传递一个可选的 encoding 参数给open()函数。\n",
    "Python支持非常多的文本编码。几个常见的编码是ascii, latin-1, utf-8和utf-16。 在web应用程序中通常都使用的是UTF-8。 ascii对应从U+0000到U+007F范围内的7位字符。 latin-1是字节0-255到U+0000至U+00FF范围内Unicode字符的直接映射。 \n",
    "当读取一个未知编码的文本时使用latin-1编码永远不会产生解码错误。 使用latin-1编码读取一个文件的时候也许不能产生完全正确的文本解码数据， 但是它也能从中提取出足够多的有用数据。同时，如果你之后将数据回写回去，原先的数据还是会保留的。"
   ]
  },
  {
   "cell_type": "code",
   "execution_count": 19,
   "metadata": {
    "collapsed": false,
    "scrolled": true
   },
   "outputs": [
    {
     "name": "stdout",
     "output_type": "stream",
     "text": [
      "utf-8\n",
      "the rise in popularity of cognitive\n",
      "\n",
      "radio networks both in the industry and\n",
      "\n",
      "academia makes them one of the key\n",
      "\n",
      "enablers for 5g networks currently the\n",
      "\n",
      "radio spectrum is allocated to different\n",
      "\n",
      "wireless technologies while the\n",
      "\n",
      "frequency spectrum in certain frequency\n",
      "\n",
      "bands like that of GSM is crowded other\n",
      "\n",
      "frequency bands like that of the\n",
      "\n",
      "military are hardly used at all\n",
      "\n",
      "resulting in spectral inefficiency an\n",
      "\n",
      "increasing number of mobile devices and\n",
      "\n",
      "the limited availability of radio\n",
      "\n",
      "spectrum is making it difficult for\n",
      "\n",
      "existing wireless technologies to\n",
      "\n",
      "survive in today's world\n",
      "\n",
      "cognitive radio aims to solve the\n",
      "\n",
      "problem of spectrum scarcity by enabling\n",
      "\n",
      "opportunistic use of the radio spectrum\n",
      "\n",
      "with cognitive radio unlicensed users\n",
      "\n",
      "can use licensed bands from users who\n",
      "\n",
      "are not currently using their allocated\n",
      "\n",
      "frequency this increases the spectral\n",
      "\n",
      "efficiency\n",
      "\n",
      "the use of software-defined radios or\n",
      "\n",
      "SDR s allows cognitive radio systems to\n",
      "\n",
      "adapt dynamically to the changes in\n",
      "\n",
      "their operating environments these\n",
      "\n",
      "systems thrive on an understanding by\n",
      "\n",
      "building methodology cognitive radio\n",
      "\n",
      "provides spectral efficiency operational\n",
      "\n",
      "flexibility adaptability according to\n",
      "\n",
      "the environment and interoperability\n",
      "\n",
      "between existing wireless networks\n",
      "\n"
     ]
    }
   ],
   "source": [
    "# 基本编码问题\n",
    "\n",
    "import sys\n",
    "print(sys.getdefaultencoding())\n",
    "\n",
    "# with open('5G - 2. Cognitive Radio - YouTube.srt', 'rt', encoding='latin-1') as f:\n",
    "# with open('5G - 2. Cognitive Radio - YouTube.srt', 'rt', encoding='utf-16') as f:\n",
    "# with open('5G - 2. Cognitive Radio - YouTube.srt', 'rt', encoding='ascii') as f:\n",
    "with open('5G - 2. Cognitive Radio - YouTube.srt', 'rt', encoding='utf-8') as f:\n",
    "    for line in f: \n",
    "        if '-->' not in line and len(line)>3:\n",
    "            print(line)"
   ]
  },
  {
   "cell_type": "code",
   "execution_count": 25,
   "metadata": {
    "collapsed": false,
    "scrolled": true
   },
   "outputs": [
    {
     "name": "stdout",
     "output_type": "stream",
     "text": [
      " the rise in popularity of cognitive radio networks both in the industry and academia makes them one of the key enablers for 5g networks currently the radio spectrum is allocated to different wireless technologies while the frequency spectrum in certain frequency bands like that of GSM is crowded other frequency bands like that of the military are hardly used at all resulting in spectral inefficiency an increasing number of mobile devices and the limited availability of radio spectrum is making it difficult for existing wireless technologies to survive in today's world cognitive radio aims to solve the problem of spectrum scarcity by enabling opportunistic use of the radio spectrum with cognitive radio unlicensed users can use licensed bands from users who are not currently using their allocated frequency this increases the spectral efficiency the use of software-defined radios or SDR s allows cognitive radio systems to adapt dynamically to the changes in their operating environments these systems thrive on an understanding by building methodology cognitive radio provides spectral efficiency operational flexibility adaptability according to the environment and interoperability between existing wireless networks\n"
     ]
    }
   ],
   "source": [
    "# 在例子程序中的with语句给被使用到的文件创建了一个上下文环境， 但 with 控制块结束时，文件会自动关闭。你也可以不使用 with 语句，但是这时候你就必须记得手动关闭文件：\n",
    "filename = '5G - 2. Cognitive Radio - YouTube.srt'\n",
    "whole = \"\"\n",
    "with open(filename, 'rt') as f:\n",
    "    # data = f.read() # Read the entire file as a single string\n",
    "    for line in f: \n",
    "        if '-->' not in line and len(line)>3:\n",
    "            whole = whole + ' '+ line.strip()\n",
    "    print(whole)\n",
    "        "
   ]
  },
  {
   "cell_type": "markdown",
   "metadata": {},
   "source": [
    "### 加上标点，断句。Punctuation prediction。\n",
    "You can try our model that uses neural networks to restore missing punctuation in unsegmented text:\n",
    "http://bark.phon.ioc.ee/punctuator\n",
    "\n",
    "The rise in popularity of cognitive radio networks, both in the industry and academia, makes them one of the key enablers for 5g networks. Currently, the radio spectrum is allocated to different wireless technologies, while the frequency spectrum in certain frequency bands, like that of GSM, is crowded. Other frequency bands, like that of the military, are hardly used at all, resulting in spectral inefficiency, an increasing number of mobile devices and the limited availability of radio spectrum is making it difficult for existing wireless technologies to survive in today's world. Cognitive radio aims to solve the problem of spectrum scarcity by enabling opportunistic use of the radio spectrum with cognitive, radio unlicensed users can use licensed bands from users who are not currently using their allocated frequency. This increases the spectral efficiency, the use of software-defined radios or SDR s allows cognitive radio systems to adapt dynamically to the changes in their operating environments. These systems thrive on an understanding by building methodology. Cognitive radio provides spectral efficiency, operational flexibility, adaptability according to the environment and interoperability between existing wireless networks."
   ]
  },
  {
   "cell_type": "code",
   "execution_count": 26,
   "metadata": {
    "collapsed": true,
    "scrolled": true
   },
   "outputs": [],
   "source": [
    "#为了写入一个文本文件，使用带有 wt 模式的 open() 函数， 如果之前文件内容存在则清除并覆盖掉。\n",
    "\n",
    "# Write chunks of text data\n",
    "with open('closed_'+filename, 'wt') as f:\n",
    "    f.write(whole)\n",
    "# Redirected print statement\n",
    "# with open('somefile.txt', 'wt') as f:\n",
    "#     print(line1, file=f)\n",
    "#     print(line2, file=f)\n"
   ]
  },
  {
   "cell_type": "markdown",
   "metadata": {},
   "source": [
    "### <a id='5'>5. 概率模拟</a>  (<a href='#0'>返回</a>)"
   ]
  },
  {
   "cell_type": "code",
   "execution_count": 2,
   "metadata": {
    "collapsed": false
   },
   "outputs": [
    {
     "data": {
      "text/plain": [
       "0.3344471093814467"
      ]
     },
     "execution_count": 2,
     "metadata": {},
     "output_type": "execute_result"
    }
   ],
   "source": [
    "import random\n",
    "sum_r = 0\n",
    "rounds = 10000\n",
    "for i in range(rounds):\n",
    "    a = random.random()\n",
    "    b = random.random()\n",
    "    r = max(a/2,b/2)\n",
    "    sum_r = sum_r + r\n",
    "sum_r/rounds"
   ]
  },
  {
   "cell_type": "code",
   "execution_count": 4,
   "metadata": {
    "collapsed": false
   },
   "outputs": [
    {
     "data": {
      "text/plain": [
       "0.33425870374437705"
      ]
     },
     "execution_count": 4,
     "metadata": {},
     "output_type": "execute_result"
    }
   ],
   "source": [
    "import random\n",
    "sum_r = 0\n",
    "rounds = 10000\n",
    "for i in range(rounds):\n",
    "    a = random.random()\n",
    "    b = random.random()\n",
    "    r = min(a,b)\n",
    "    sum_r = sum_r + r\n",
    "sum_r/rounds"
   ]
  },
  {
   "cell_type": "markdown",
   "metadata": {},
   "source": [
    "### <a id='6'>6. 函数模拟</a>  (<a href='#0'>返回</a>)"
   ]
  },
  {
   "cell_type": "code",
   "execution_count": 9,
   "metadata": {
    "collapsed": false
   },
   "outputs": [
    {
     "data": {
      "image/png": "[encoded data removed]",
      "text/plain": [
       "<Figure size 432x288 with 1 Axes>"
      ]
     },
     "metadata": {},
     "output_type": "display_data"
    }
   ],
   "source": [
    "import matplotlib.pyplot as plt\n",
    "import numpy as np\n",
    "# if using a jupyter notebook\n",
    "%matplotlib inline  \n",
    "x = np.arange(0.5,3,0.01)   # start,stop,step\n",
    "y = 2*np.pi*x/(1-np.cos(x))\n",
    "plt.plot(x,y)\n",
    "plt.show()"
   ]
  },
  {
   "cell_type": "code",
   "execution_count": null,
   "metadata": {
    "collapsed": true
   },
   "outputs": [],
   "source": []
  },
  {
   "cell_type": "code",
   "execution_count": null,
   "metadata": {
    "collapsed": true
   },
   "outputs": [],
   "source": []
  },
  {
   "cell_type": "code",
   "execution_count": null,
   "metadata": {
    "collapsed": true
   },
   "outputs": [],
   "source": []
  },
  {
   "cell_type": "markdown",
   "metadata": {
    "collapsed": true
   },
   "source": [
    "### <a id='7'>7. 数据统计方法</a>  (<a href='#0'>返回</a>)"
   ]
  },
  {
   "cell_type": "code",
   "execution_count": null,
   "metadata": {
    "collapsed": true
   },
   "outputs": [],
   "source": [
    "# importing Statistics module \n",
    "import statistics \n",
    "  \n",
    "# creating a simple data - set \n",
    "sample = [74] \n",
    "  \n",
    "# Prints standard deviation \n",
    "# xbar is set to default value of 1 \n",
    "print(\"Standard Deviation of sample is % s \" \n",
    "                % (statistics.stdev(sample))) "
   ]
  },
  {
   "cell_type": "code",
   "execution_count": 93,
   "metadata": {
    "collapsed": false
   },
   "outputs": [
    {
     "data": {
      "text/plain": [
       "([50, 98, 74], [10, 10, 1])"
      ]
     },
     "execution_count": 93,
     "metadata": {},
     "output_type": "execute_result"
    }
   ],
   "source": [
    "import pandas as pd\n",
    "import numpy as np\n",
    "import matplotlib.pyplot as plt\n",
    "import math\n",
    "# 模拟100个[1, 10]之间的整数，用来绘制直方图\n",
    "data = [np.random.randint(10, 15) for a in range(1, 11)]\n",
    "data = [30,40,54,54,56,58,60,62,70,72, 74, 75,76,77,80,84,85,86,90,90,90,95]\n",
    "data = [50,50,50,50,50,50,50,50,50,50, 74, 98,98,98,98,98,98,98,98,98,98]\n",
    "\n",
    "# 将列表转换成pandas的Series格式(因为里边有自带的函数可以统计元素出现的个数， for统计列表中元素出现的次数，效率过慢，不适用于大数据量)\n",
    "data_pd = pd.Series(data)\n",
    "l_unique_data = list(data_pd.value_counts().index)  # 该数据中的唯一值\n",
    "l_num = list(data_pd.value_counts())  # 唯一值出现的次数\n",
    "l_unique_data,l_num "
   ]
  },
  {
   "cell_type": "code",
   "execution_count": 94,
   "metadata": {
    "collapsed": false
   },
   "outputs": [
    {
     "data": {
      "text/plain": [
       "count    21.0\n",
       "mean     74.0\n",
       "std      24.0\n",
       "min      50.0\n",
       "25%      50.0\n",
       "50%      74.0\n",
       "75%      98.0\n",
       "max      98.0\n",
       "dtype: float64"
      ]
     },
     "execution_count": 94,
     "metadata": {},
     "output_type": "execute_result"
    }
   ],
   "source": [
    "data_pd.describe()"
   ]
  },
  {
   "cell_type": "code",
   "execution_count": 95,
   "metadata": {
    "collapsed": false
   },
   "outputs": [
    {
     "data": {
      "text/plain": [
       "23.545172499213283"
      ]
     },
     "execution_count": 95,
     "metadata": {},
     "output_type": "execute_result"
    }
   ],
   "source": [
    "var = 0\n",
    "for i in data:\n",
    "    var += (i-71.590909)*(i-71.590909)\n",
    "math.sqrt(var/len(data))"
   ]
  },
  {
   "cell_type": "markdown",
   "metadata": {
    "collapsed": true
   },
   "source": [
    "### <a id='8'>8. 按照excel批量生成文件</a>  (<a href='#0'>返回</a>)"
   ]
  },
  {
   "cell_type": "code",
   "execution_count": 45,
   "metadata": {
    "collapsed": false
   },
   "outputs": [
    {
     "name": "stderr",
     "output_type": "stream",
     "text": [
      "/Users/zsy/Desktop/anaconda3/lib/python3.6/site-packages/jupyter_client/jsonutil.py:67: DeprecationWarning: Interpreting naive datetime as local 2020-12-01 14:22:02.992727. Please add timezone info to timestamps.\n",
      "  new_obj[k] = extract_dates(v)\n"
     ]
    },
    {
     "ename": "FileNotFoundError",
     "evalue": "[Errno 2] No such file or directory: '~/Desktop/csci2040_2020/stu_folders'",
     "output_type": "error",
     "traceback": [
      "\u001b[0;31m---------------------------------------------------------------------------\u001b[0m",
      "\u001b[0;31mFileNotFoundError\u001b[0m                         Traceback (most recent call last)",
      "\u001b[0;32m<ipython-input-45-a81283750ab0>\u001b[0m in \u001b[0;36m<module>\u001b[0;34m()\u001b[0m\n\u001b[1;32m      2\u001b[0m \u001b[0mfolder_path\u001b[0m \u001b[0;34m=\u001b[0m \u001b[0;34m\"~/Desktop/csci2040_2020/stu_folders\"\u001b[0m\u001b[0;34m\u001b[0m\u001b[0;34m\u001b[0m\u001b[0m\n\u001b[1;32m      3\u001b[0m \u001b[0;32mif\u001b[0m \u001b[0;32mnot\u001b[0m \u001b[0mos\u001b[0m\u001b[0;34m.\u001b[0m\u001b[0mpath\u001b[0m\u001b[0;34m.\u001b[0m\u001b[0mexists\u001b[0m\u001b[0;34m(\u001b[0m\u001b[0mfolder_path\u001b[0m\u001b[0;34m)\u001b[0m\u001b[0;34m:\u001b[0m\u001b[0;34m\u001b[0m\u001b[0;34m\u001b[0m\u001b[0m\n\u001b[0;32m----> 4\u001b[0;31m     \u001b[0mos\u001b[0m\u001b[0;34m.\u001b[0m\u001b[0mmkdir\u001b[0m\u001b[0;34m(\u001b[0m\u001b[0mfolder_path\u001b[0m\u001b[0;34m)\u001b[0m\u001b[0;34m\u001b[0m\u001b[0;34m\u001b[0m\u001b[0m\n\u001b[0m",
      "\u001b[0;31mFileNotFoundError\u001b[0m: [Errno 2] No such file or directory: '~/Desktop/csci2040_2020/stu_folders'"
     ]
    }
   ],
   "source": [
    "import os\n",
    "folder_path = \"~/Desktop/csci2040_2020/stu_folders\"\n",
    "if not os.path.exists(folder_path):\n",
    "    os.mkdir(folder_path)"
   ]
  },
  {
   "cell_type": "code",
   "execution_count": 4,
   "metadata": {
    "collapsed": false
   },
   "outputs": [
    {
     "name": "stdout",
     "output_type": "stream",
     "text": [
      "['Sheet1']\n",
      "Last Name-First Name-Student ID\n",
      "CHAN-Chun Ho-1155093313\n",
      "CHAN-Hon Fai-1155148701\n",
      "CHAN-Kin Yeung-1155142368\n",
      "CHAN-Wai Ying-1155094470\n",
      "CHAN-Yu Hin Matthew-1155109832\n",
      "CHANG-Chun Yuen-1155108250\n",
      "CHAU-Chung Lai Matthew-1155110464\n",
      "CHENG-Man Lik-1155093291\n",
      "CHENG-Wing Sun-1155109367\n",
      "CHEUNG-Ching Yin-1155109885\n",
      "CHEUNG-Chun Ho-1155108872\n",
      "CHEUNG-Chun Hung-1155109321\n",
      "CHEUNG-Ka Wai-1155110140\n",
      "CHEUNG-Ngai Fan-1155110414\n",
      "CHEUNG-Pui Kin-1155113859\n",
      "CHEUNG-Sam Ki-1155131407\n",
      "CHEUNG-Tsz Ho-1155102444\n",
      "CHEUNG-Wing Man Julianna-1155131234\n",
      "CHEUNG-Yu Shing-1155109581\n",
      "CHIN-Yat Wa-1155109964\n",
      "CHIU-Chi Keung-1155109788\n",
      "CHOW-Kwan Ting Jeremy-1155110776\n",
      "CHOW-Man Chun-1155108980\n",
      "CHOW-Tsz Hong-1155108769\n",
      "CHOW-Wang Faat-1155115793\n",
      "CUI-Yuqing-1155124597\n",
      "FUNG-Siu Yin-1155109079\n",
      "HAN-Xinyu-1155092126\n",
      "HO-Tino-1155110147\n",
      "HO-Tsz Ngong-1155124840\n",
      "HO-Tsz Yan-1155108972\n",
      "HUANG-Xuyixuan-1155141513\n",
      "HUNG-Yiu Pan-1155108381\n",
      "KAT-Tsz Yin-1155110364\n",
      "KONG-Yiu Lun-1155126013\n",
      "KUNG-Mik Kei-1155108503\n",
      "LAI-Jian Zhong-1155110849\n",
      "LAM-Hi-1155109349\n",
      "LAM-Hoi Kit-1155110154\n",
      "LAM-King Fung-1155108968\n",
      "LAM-Tak Hing-1155131289\n",
      "LAO-Kam Fung-1155096606\n",
      "LAU-Gaston-1155109539\n",
      "LAU-Kai Hong-1155109455\n",
      "LAU-Ngai Fung-1155115792\n",
      "LAU-Tsz Huen Sunny-1155109300\n",
      "LAU-Tsz Yin-1155108254\n",
      "LAW-Ho Fung-1155093816\n",
      "LAW-Ming Yin-1155110440\n",
      "LEE-Kwan Hung-1155108603\n",
      "LEE-Pak Hei-1155109311\n",
      "LEE-Tsz Hin-1155110415\n",
      "LEE-Yan Yu-1155108857\n",
      "LI-Kin Chung-1155109076\n",
      "LI-Kin Sing-1155108893\n",
      "LI-Lok Hang-1155092891\n",
      "LI-Wai Yip-1155115790\n",
      "LIN-Kaichun-1155131322\n",
      "LIU-Meitong-1155121253\n",
      "LIU-Shihao-1155124559\n",
      "LIU-Zhonglin-1155107897\n",
      "LUI-Chun Ho-1155126191\n",
      "LUO-Yiyang-1155124470\n",
      "MING-Lai Tin-1155126370\n",
      "NG-Chiu-1155110042\n",
      "NG-Tim Ying-1155108797\n",
      "NGAI-Hong Ting-1155108923\n",
      "SO-Tsz Ying-1155108474\n",
      "TAI-Tsun Yiu-1155144423\n",
      "TAM-Hoi Fung-1155127044\n",
      "TANG-Ka Wai-1155157382\n",
      "TANG-Tsz Chun-1155108774\n",
      "TSE-Man Yan-1155109773\n",
      "TSOI-Kin Ho Daniel-1155109436\n",
      "TSUI-Ho Ming-1155110323\n",
      "WANG-Chun Chih-1155085631\n",
      "WANG-Tianchang-1155107799\n",
      "WEI-Wang-1155107718\n",
      "WEI-Xingyu-1155107695\n",
      "WONG-Chun Fei-1155144394\n",
      "WONG-Chun Kit-1155111098\n",
      "WONG-Chun Tim-1155094584\n",
      "WONG-Hiu Chit-1155126995\n",
      "WONG-Ki Long-1155093001\n",
      "WONG-Kin Chi-1155109665\n",
      "WONG-Lok Lam-1155110688\n",
      "WONG-Lok Wai-1155127339\n",
      "WONG-Man Him-1155109863\n",
      "WONG-Ngo Yin-1155109548\n",
      "WONG-Pok Yin-1155094980\n",
      "WONG-Tsz Chun-1155110738\n",
      "WONG-Tsz Ying-1155127320\n",
      "WONG-Yik Chun-1155110646\n",
      "WONG-Yik Lee-1155108532\n",
      "WU-Xiang-1155124573\n",
      "XU-Mandi-1155091980\n",
      "YAN-Chun Hung-1155116382\n",
      "YANG-Huaixun-1155137876\n",
      "YAU-Tsun Hin-1155109318\n",
      "YU-Yue-1155124490\n",
      "YUEN-Ching Yin-1155110657\n",
      "ZHANG-Jinghan-1155107851\n",
      "ZHANG-Zixuan-1155107905\n",
      "ZHOU-Zhong Yao-1155093085\n",
      "ZHU-Peixin-1155110156\n"
     ]
    }
   ],
   "source": [
    "# pip install openpyxl\n",
    "# pip install --upgrade openpyxl # openpyxl-3.0.5\n",
    "\n",
    "from openpyxl import load_workbook\n",
    "import os\n",
    "\n",
    "wb = load_workbook(filename = 'csci2040_2020/student_list.xlsx')\n",
    "print(wb.sheetnames)\n",
    "\n",
    "sheet = wb.active \n",
    "max_col = sheet.max_column \n",
    "max_row = sheet.max_row\n",
    "\n",
    "folder_path = \"csci2040_2020/stu_folders\"\n",
    "os.chdir(folder_path)\n",
    "for i in range(1,max_row+1):\n",
    "    name_entries = []\n",
    "    for j in range(1,max_col+1):\n",
    "        cell = sheet.cell(row = i, column = j) \n",
    "        name_entries.append(str(cell.value))\n",
    "    name_str = \"-\".join(name_entries)\n",
    "    print(name_str) \n",
    "     \n",
    "    if not os.path.exists(name_str):\n",
    "        os.mkdir(name_str)\n",
    "\n",
    "\n"
   ]
  },
  {
   "cell_type": "code",
   "execution_count": 43,
   "metadata": {
    "collapsed": false
   },
   "outputs": [
    {
     "name": "stderr",
     "output_type": "stream",
     "text": [
      "/Users/zsy/Desktop/anaconda3/lib/python3.6/site-packages/jupyter_client/jsonutil.py:67: DeprecationWarning: Interpreting naive datetime as local 2020-12-01 14:19:40.948843. Please add timezone info to timestamps.\n",
      "  new_obj[k] = extract_dates(v)\n"
     ]
    }
   ],
   "source": []
  },
  {
   "cell_type": "code",
   "execution_count": 7,
   "metadata": {
    "collapsed": false
   },
   "outputs": [
    {
     "name": "stdout",
     "output_type": "stream",
     "text": [
      "look of Ann, had\n"
     ]
    }
   ],
   "source": [
    "name = \"Ann\"\n",
    "print(\"look of %s,\" % name, end=' ')\n",
    "print(\"had\")"
   ]
  },
  {
   "cell_type": "code",
   "execution_count": 9,
   "metadata": {
    "collapsed": false
   },
   "outputs": [
    {
     "name": "stdout",
     "output_type": "stream",
     "text": [
      "5\n",
      "5\n"
     ]
    }
   ],
   "source": [
    "d = {}\n",
    "d['zsy'] = 5\n",
    "d['syf'] = 6\n",
    "print(d['zsy'])\n",
    "print(d.get('zsy'))"
   ]
  },
  {
   "cell_type": "markdown",
   "metadata": {},
   "source": [
    "### <a id='9'>9. 查看蓝牙设备</a>  (<a href='#0'>返回</a>)"
   ]
  },
  {
   "cell_type": "code",
   "execution_count": 14,
   "metadata": {
    "collapsed": false
   },
   "outputs": [
    {
     "name": "stdout",
     "output_type": "stream",
     "text": [
      "JBL GO 2 连接中\n",
      "RSSI: -39\n",
      "Athlete 未连接\n",
      "lf’s AirPods 未连接\n",
      "Shira’s AirPods 未连接\n",
      "Shira’s Apple Watch 未连接\n",
      "WH-1000XM2 未连接\n",
      "“zsy”的 iPhone 未连接\n",
      "郑诗源的 iPad 未连接\n"
     ]
    }
   ],
   "source": [
    "import os\n",
    "\n",
    "\n",
    "def bluetooth_rssi_get():\n",
    "    cmd = \"system_profiler SPBluetoothDataType\"\n",
    "    devices = get_bluetooth_devices(cmd)\n",
    "\n",
    "#     print(devices)\n",
    "    for device_name, device_info in devices.items():\n",
    "\n",
    "        for key, value in device_info.items():\n",
    "            if key == 'Connected':\n",
    "                if value == 'Yes':\n",
    "                    print(device_name, \"连接中\")\n",
    "                else:\n",
    "                    print(device_name, \"未连接\")\n",
    "            if key == 'RSSI':\n",
    "                print('RSSI:', value)\n",
    "\n",
    "\n",
    "def get_bluetooth_devices(cmd):\n",
    "    '''\n",
    "    执行cmd命令获取所有蓝牙相关信息\n",
    "    :param cmd: 命令行\n",
    "    :return: 返回所有连接中或连接过的蓝牙设备\n",
    "    '''\n",
    "    r = os.popen(cmd)\n",
    "    info = r.readlines()  # 读取命令行的输出到一个list\n",
    "    level_map = process_info(info)\n",
    "    r.close()\n",
    "    return level_map2dict(level_map)[\"Bluetooth\"][\"Devices (Paired, Configured, etc.)\"]\n",
    "\n",
    "\n",
    "def process_info(info):\n",
    "    '''\n",
    "    处理命令行结果，生成根据缩进判定的层级\n",
    "    :param info: 命令行结果，每行以数组形成存储\n",
    "    :return: 带有层级的数组\n",
    "    '''\n",
    "    level_map = []\n",
    "    for line in info:  # 按行遍历\n",
    "        line = line.strip('\\r\\n')\n",
    "        if len(line) > 0:  # 第二行是空行\n",
    "            line_info = get_line_info(line)\n",
    "            if line_info[\"level\"] >= 0:  # 把第一行Bluetooth去除\n",
    "                level_map.append(line_info)\n",
    "#     print(level_map)\n",
    "    return level_map\n",
    "\n",
    "\n",
    "def get_line_info(line):\n",
    "    '''\n",
    "    解析命令行每行信息\n",
    "    :param line: 传入行\n",
    "    :return: 根据冒号分割以及缩进，生成的每行信息(字典形式)\n",
    "    '''\n",
    "    split = line.split(':')\n",
    "    name = split[0].lstrip(' ')\n",
    "    value = split[1].lstrip(' ')\n",
    "    level = (len(line) - len(line.lstrip(' ')) - 2) / 4\n",
    "    if level < 0:\n",
    "        level = 0  # 针对第一行\n",
    "\n",
    "    line_info = {}\n",
    "    line_info[\"name\"] = name\n",
    "    line_info[\"value\"] = value\n",
    "    line_info[\"level\"] = level\n",
    "    return line_info\n",
    "\n",
    "\n",
    "def level_map2dict(ttree, level=0):\n",
    "    '''\n",
    "    根据层级信息转化成字典结构\n",
    "    :param ttree:\n",
    "    :param level:\n",
    "    :return:\n",
    "    '''\n",
    "    result = {}\n",
    "    for i in range(0, len(ttree)):\n",
    "        current_node = ttree[i]\n",
    "        try:\n",
    "            next_node = ttree[i + 1]\n",
    "        except:\n",
    "            next_node = {'level': -1}\n",
    "\n",
    "        # 边界条件，非当前层级\n",
    "        if current_node['level'] > level:  # 已经作为整体插入，跳过\n",
    "            continue\n",
    "        if current_node['level'] < level:  # 当前是上一级的，直接返回现有结果\n",
    "            return result\n",
    "\n",
    "\n",
    "        # 递归生成\n",
    "        if next_node['level'] == level:  # 同级\n",
    "            dict_insert_or_append(result, current_node['name'], current_node['value'])\n",
    "        elif next_node['level'] > level:  # 下一级，将下一级整体插入\n",
    "            next_level = level_map2dict(ttree[i + 1:], level=next_node['level'])  # 剩下的进行处理\n",
    "            dict_insert_or_append(result, current_node['name'], next_level)\n",
    "        else:  # 下一个是上一级的，当前插入完成直接返回\n",
    "            dict_insert_or_append(result, current_node['name'], current_node['value'])\n",
    "            return result\n",
    "    return result\n",
    "\n",
    "\n",
    "def dict_insert_or_append(adict, key, val):\n",
    "    '''\n",
    "    针对key是否存在，新增或者添加\n",
    "    :param adict:\n",
    "    :param key:\n",
    "    :param val:\n",
    "    :return:\n",
    "    '''\n",
    "    if key in adict:  # 添加\n",
    "        if type(adict[key]) != list:\n",
    "            adict[key] = [adict[key]]  # 将单独存在的转化成list\n",
    "        adict[key].append(val)\n",
    "    else:  # 新增\n",
    "        adict[key] = val\n",
    "\n",
    "bluetooth_rssi_get()"
   ]
  },
  {
   "cell_type": "code",
   "execution_count": 7,
   "metadata": {
    "collapsed": false
   },
   "outputs": [
    {
     "name": "stdout",
     "output_type": "stream",
     "text": [
      "Scanning for bluetooth devices:\n",
      "0 devices found\n"
     ]
    }
   ],
   "source": [
    "import bluetooth\n",
    "\n",
    "def scan():\n",
    "    print(\"Scanning for bluetooth devices:\")\n",
    "    devices = bluetooth.discover_devices(lookup_names = True, lookup_class = True)\n",
    "    number_of_devices = len(devices)\n",
    "    print(number_of_devices,\"devices found\")\n",
    "    for addr, name, device_class in devices:\n",
    "        print(\"\\n\")\n",
    "        print(\"Device:\")\n",
    "        print(\"Device Name: %s\" % (name))\n",
    "        print(\"Device MAC Address: %s\" % (addr))\n",
    "        print(\"Device Class: %s\" % (device_class))\n",
    "        print(\"\\n\")\n",
    "    return\n",
    "\n",
    "scan()"
   ]
  },
  {
   "cell_type": "markdown",
   "metadata": {},
   "source": [
    "### <a id='10'>10. 集合运算模拟</a>  (<a href='#0'>返回</a>)"
   ]
  },
  {
   "cell_type": "code",
   "execution_count": 33,
   "metadata": {
    "collapsed": false
   },
   "outputs": [],
   "source": [
    "import random\n",
    "\n",
    "def simulation1():\n",
    "    num_sets = 3\n",
    "    high = 99\n",
    "    sets = []\n",
    "    for i in range(num_sets):\n",
    "        random_size = random.randint(1,high) # 左闭右闭\n",
    "        random_set = random.sample(range(1,high+1),random_size) # 左闭右开\n",
    "        sets.append(random_set)\n",
    "    lhs = len( set(sets[0]).union(set(sets[1])).difference(set(sets[2])) ) - len( set(sets[1]).difference(set(sets[2])) )\n",
    "    rhs = len( set(sets[0]).difference(set(sets[1])).difference(set(sets[2])) )\n",
    "    return lhs==rhs"
   ]
  },
  {
   "cell_type": "code",
   "execution_count": 34,
   "metadata": {
    "collapsed": false
   },
   "outputs": [
    {
     "data": {
      "text/plain": [
       "(1000, 0)"
      ]
     },
     "execution_count": 34,
     "metadata": {},
     "output_type": "execute_result"
    }
   ],
   "source": [
    "num_true = 0\n",
    "num_false = 0\n",
    "for i in range(1000):\n",
    "    result =simulation1()\n",
    "    if result == 1:\n",
    "        num_true += 1 \n",
    "    elif result == 0:\n",
    "        num_false += 1 \n",
    "num_true,num_false"
   ]
  },
  {
   "cell_type": "code",
   "execution_count": 35,
   "metadata": {
    "collapsed": true
   },
   "outputs": [],
   "source": [
    "import random\n",
    "\n",
    "\n",
    "def simulation2():\n",
    "    num_sets = 6\n",
    "    high = 99\n",
    "    sets = []\n",
    "    for i in range(num_sets):\n",
    "        random_size = random.randint(1,high) # 左闭右闭\n",
    "        random_set = set(random.sample(range(1,high+1),random_size)) # 左闭右开\n",
    "        sets.append(random_set)\n",
    "    \n",
    "    eq0 = sets[0].difference(sets[1]).union(sets[2].difference(sets[3])).difference(sets[1].union(sets[3]))\n",
    "    eq1 = sets[0].union(sets[2]).difference(sets[1].union(sets[3]))\n",
    "    eq2 = sets[0].difference(sets[1]).union(sets[2].difference(sets[3]))\n",
    "    \n",
    "    return eq0,eq1,eq2"
   ]
  },
  {
   "cell_type": "code",
   "execution_count": 37,
   "metadata": {
    "collapsed": false
   },
   "outputs": [
    {
     "name": "stdout",
     "output_type": "stream",
     "text": [
      "1000 0 5 995\n"
     ]
    }
   ],
   "source": [
    "eq0_eq1_yes, eq0_eq1_no , eq0_eq2_yes, eq0_eq2_no = 0,0,0,0\n",
    "\n",
    "for i in range(1000):\n",
    "    eq0,eq1,eq2 =simulation2()\n",
    "    if eq0==eq1:\n",
    "        eq0_eq1_yes+=1\n",
    "    else:\n",
    "        eq0_eq1_no+=1\n",
    "    \n",
    "    if eq0==eq2:\n",
    "        eq0_eq2_yes+=1\n",
    "    else:\n",
    "        eq0_eq2_no+=1\n",
    "\n",
    "print(eq0_eq1_yes, eq0_eq1_no , eq0_eq2_yes, eq0_eq2_no)"
   ]
  },
  {
   "cell_type": "code",
   "execution_count": 37,
   "metadata": {
    "collapsed": false
   },
   "outputs": [
    {
     "name": "stdout",
     "output_type": "stream",
     "text": [
      "Alice 2341\n",
      "Alice 2341\n",
      "Beth 9102\n",
      "Beth 9102\n",
      "Cecil 3258\n",
      "Cecil 3258\n"
     ]
    }
   ],
   "source": [
    "d = {'Alice': '2341', 'Beth': '9102', 'Cecil': '3258'}\n",
    "for k in d :\n",
    "    print(k,d[k])\n",
    "    print(k,d.get(k))   # 取值速度快，性能好"
   ]
  },
  {
   "cell_type": "code",
   "execution_count": 5,
   "metadata": {
    "collapsed": true
   },
   "outputs": [],
   "source": []
  },
  {
   "cell_type": "code",
   "execution_count": 8,
   "metadata": {
    "collapsed": false
   },
   "outputs": [
    {
     "name": "stdout",
     "output_type": "stream",
     "text": [
      "0 1 2 3 4 5 6 7 8 9 \n"
     ]
    }
   ],
   "source": [
    "class Node(object):\n",
    "    \"\"\"二叉树节点\"\"\"\n",
    "\n",
    "    def __init__(self, elem=-1, lchild=None, rchild=None):\n",
    "        self.elem = elem\n",
    "        self.lchild = lchild\n",
    "        self.rchild = rchild\n",
    "\n",
    "class CompleteBinaryTree(object):\n",
    "    \"\"\"完全二叉树\"\"\"\n",
    "\n",
    "    def __init__(self, root=None):\n",
    "        self.root = root\n",
    "\n",
    "    def add(self, elem):\n",
    "        \"\"\"添加节点\"\"\"\n",
    "        node = Node(elem)\n",
    "        # 如果树是空的，则对根节点赋值\n",
    "        if self.root == None:\n",
    "            self.root = node\n",
    "        else:\n",
    "            queue = [self.root]\n",
    "            # 广度遍历\n",
    "            while True:\n",
    "                # 出队一个元素\n",
    "                cur = queue.pop(0)\n",
    "                if cur.lchild == None:\n",
    "                    cur.lchild = node\n",
    "                    return\n",
    "                elif cur.rchild == None:\n",
    "                    cur.rchild = node\n",
    "                    return\n",
    "                else:\n",
    "                    # 如果左右子树都不为空，入队继续遍历\n",
    "                    queue.append(cur.lchild)\n",
    "                    queue.append(cur.rchild)\n",
    "\n",
    "    def breadth_travel(self):\n",
    "        \"\"\"广度优先遍历\"\"\"\n",
    "        if self.root == None:\n",
    "            return\n",
    "        queue = [self.root]\n",
    "        while queue:\n",
    "            node = queue.pop(0)\n",
    "            print(node.elem, end=' ')\n",
    "\n",
    "            if node.lchild != None:\n",
    "                queue.append(node.lchild)\n",
    "            if node.rchild != None:\n",
    "                queue.append(node.rchild)\n",
    "\n",
    "\n",
    "\n",
    "\n",
    "if __name__ == '__main__':\n",
    "    tree = CompleteBinaryTree()\n",
    "    for i in range(10):\n",
    "        tree.add(i)\n",
    "\n",
    "    tree.breadth_travel()\n",
    "    print()\n",
    "#     tree.preorder(tree.root)\n",
    "#     print()\n",
    "#     tree.inorder(tree.root)\n",
    "#     print()\n",
    "#     tree.postorder(tree.root)"
   ]
  },
  {
   "cell_type": "code",
   "execution_count": 4,
   "metadata": {
    "collapsed": false
   },
   "outputs": [
    {
     "name": "stdout",
     "output_type": "stream",
     "text": [
      "[[0, 1, 2], [0, 1, 3], [0, 2, 1], [0, 2, 3], [0, 3, 1], [0, 3, 2], [1, 0, 2], [1, 0, 3], [1, 2, 0], [1, 2, 3], [1, 3, 0], [1, 3, 2], [2, 0, 1], [2, 0, 3], [2, 1, 0], [2, 1, 3], [2, 3, 0], [2, 3, 1], [3, 0, 1], [3, 0, 2], [3, 1, 0], [3, 1, 2], [3, 2, 0], [3, 2, 1]]\n"
     ]
    }
   ],
   "source": [
    "p_list = [1, 0.5, 0.5, 0.1]\n",
    "v_list = [1, 1, 1, 2]\n",
    "n = 4\n",
    "t = 3\n",
    "k = 2\n",
    "\n",
    "\n",
    "\n",
    "for i in cand:\n",
    "    tree = CompleteBinaryTree()\n",
    "    for\n",
    "    \n",
    "for i in cand:\n",
    "    pos[0] = i\n",
    "    pos[1] = \n",
    "\n",
    "\n",
    "cand = list(range[n])\n",
    "for i in cand:\n",
    "    temp_cand = list.remove(i)\n",
    "    level2 = itertools.combinations(temp_cand, 2)\n",
    "    for \n",
    "    \n",
    "    \n",
    "    valuations = valuations + p[i]*v[i]\n",
    "    for j in range(n):\n",
    "        if j != i:\n",
    "            for k in range(n):\n",
    "                if k != i and k != j:\n",
    "                    combinations.append([i,j,k])\n",
    "\n",
    "\n",
    "filled = 0\n",
    "combinations = []\n",
    "valuations = 0\n",
    "for i in range(n):\n",
    "    valuations = valuations + p[i]*v[i]\n",
    "    for j in range(n):\n",
    "        if j != i:\n",
    "            for k in range(n):\n",
    "                if k != i and k != j:\n",
    "                    combinations.append([i,j,k])\n",
    "print(combinations)\n",
    "    "
   ]
  },
  {
   "cell_type": "code",
   "execution_count": 4,
   "metadata": {
    "collapsed": false
   },
   "outputs": [
    {
     "name": "stdout",
     "output_type": "stream",
     "text": [
      "[3, 2, 1, 4]\n"
     ]
    }
   ],
   "source": [
    "nums = [1,2,3,4]\n",
    "i,j = 0,2\n",
    "nums[i], nums[j] = nums[j], nums[i]\n",
    "print(nums)"
   ]
  },
  {
   "cell_type": "code",
   "execution_count": null,
   "metadata": {
    "collapsed": true
   },
   "outputs": [],
   "source": []
  },
  {
   "cell_type": "markdown",
   "metadata": {
    "collapsed": true
   },
   "source": [
    "### <a id='11'>11. 视频下载脚本</a>  (<a href='#0'>返回</a>)"
   ]
  },
  {
   "cell_type": "code",
   "execution_count": null,
   "metadata": {
    "collapsed": true
   },
   "outputs": [],
   "source": [
    "import os\n",
    "os.system(\"cd ~/Desktop/download\")\n",
    "for i in range(1,56):\n",
    "    os.system(\"you-get https://www.bilibili.com/video/BV1B7411L7Qt?p=\"+str(i))\n"
   ]
  },
  {
   "cell_type": "code",
   "execution_count": null,
   "metadata": {
    "collapsed": true
   },
   "outputs": [],
   "source": []
  },
  {
   "cell_type": "code",
   "execution_count": null,
   "metadata": {
    "collapsed": true
   },
   "outputs": [],
   "source": []
  },
  {
   "cell_type": "code",
   "execution_count": null,
   "metadata": {
    "collapsed": true
   },
   "outputs": [],
   "source": []
  },
  {
   "cell_type": "markdown",
   "metadata": {
    "collapsed": true
   },
   "source": [
    "### <a id='12'>12. NLP相关</a>  (<a href='#0'>返回</a>)"
   ]
  },
  {
   "cell_type": "code",
   "execution_count": 2,
   "metadata": {
    "collapsed": false
   },
   "outputs": [
    {
     "name": "stdout",
     "output_type": "stream",
     "text": [
      "0.023040000000000005 0.016460905349794237\n",
      "0.03456 0.03292181069958849\n",
      "0.05184 0.06584362139917699\n",
      "0.023040000000000005 0.016460905349794237\n",
      "0.03456 0.03292181069958849\n"
     ]
    }
   ],
   "source": [
    "# EM算法 草稿ß\n",
    "A= [[1,1,0,1,0],\n",
    " [0,0,1,1,0],\n",
    " [1,0,0,0,0],\n",
    " [1,0,0,1,1],\n",
    " [0,1,1,0,0]]\n",
    "# p = 0.2\n",
    "# q = 0.7\n",
    "p = 0.4\n",
    "q = 1/3\n",
    "\n",
    "for i in range(len(A)):\n",
    "    count_1 = sum(A[i])\n",
    "    if_B_like_Ai = pow(p,count_1)*pow((1-p), 5-count_1)\n",
    "    if_C_like_Ai = pow(q,count_1)*pow((1-q), 5-count_1)\n",
    "    print(if_B_like_Ai, if_C_like_Ai)"
   ]
  },
  {
   "cell_type": "code",
   "execution_count": 2,
   "metadata": {
    "collapsed": false
   },
   "outputs": [
    {
     "name": "stdout",
     "output_type": "stream",
     "text": [
      "('买iphonex，要多少钱', [])\n",
      "('共同实际控制人萧华、霍荣铨、张启康', [['张旗康', '张启康', 14, 17]])\n",
      "*****************************************************\n",
      "('买iphonex，要多少钱', [])\n",
      "('共同实际控制人萧华、霍荣铨、张旗康', [])\n"
     ]
    }
   ],
   "source": [
    "import pycorrector\n",
    "\n",
    "pycorrector.set_log_level('INFO')\n",
    "error_sentences = [\n",
    "    '买iphonex，要多少钱',\n",
    "    '共同实际控制人萧华、霍荣铨、张旗康',\n",
    "]\n",
    "for line in error_sentences:\n",
    "    print(pycorrector.correct(line))\n",
    "print('*' * 53)\n",
    "pycorrector.set_custom_confusion_dict(path='./my_custom_confusion.txt')\n",
    "for line in error_sentences:\n",
    "    print(pycorrector.correct(line))"
   ]
  },
  {
   "cell_type": "code",
   "execution_count": 4,
   "metadata": {
    "collapsed": false
   },
   "outputs": [
    {
     "ename": "NameError",
     "evalue": "name '__file__' is not defined",
     "output_type": "error",
     "traceback": [
      "\u001b[0;31m---------------------------------------------------------------------------\u001b[0m",
      "\u001b[0;31mNameError\u001b[0m                                 Traceback (most recent call last)",
      "\u001b[0;32m<ipython-input-4-e15e31feb5c0>\u001b[0m in \u001b[0;36m<module>\u001b[0;34m()\u001b[0m\n\u001b[1;32m      2\u001b[0m \u001b[0;32mfrom\u001b[0m \u001b[0mpycorrector\u001b[0m \u001b[0;32mimport\u001b[0m \u001b[0mCorrector\u001b[0m\u001b[0;34m\u001b[0m\u001b[0;34m\u001b[0m\u001b[0m\n\u001b[1;32m      3\u001b[0m \u001b[0;34m\u001b[0m\u001b[0m\n\u001b[0;32m----> 4\u001b[0;31m \u001b[0mpwd_path\u001b[0m \u001b[0;34m=\u001b[0m \u001b[0mos\u001b[0m\u001b[0;34m.\u001b[0m\u001b[0mpath\u001b[0m\u001b[0;34m.\u001b[0m\u001b[0mabspath\u001b[0m\u001b[0;34m(\u001b[0m\u001b[0mos\u001b[0m\u001b[0;34m.\u001b[0m\u001b[0mpath\u001b[0m\u001b[0;34m.\u001b[0m\u001b[0mdirname\u001b[0m\u001b[0;34m(\u001b[0m\u001b[0m__file__\u001b[0m\u001b[0;34m)\u001b[0m\u001b[0;34m)\u001b[0m\u001b[0;34m\u001b[0m\u001b[0;34m\u001b[0m\u001b[0m\n\u001b[0m\u001b[1;32m      5\u001b[0m \u001b[0mprint\u001b[0m\u001b[0;34m(\u001b[0m\u001b[0mpwd_path\u001b[0m\u001b[0;34m)\u001b[0m\u001b[0;34m\u001b[0m\u001b[0;34m\u001b[0m\u001b[0m\n\u001b[1;32m      6\u001b[0m \u001b[0mlm_path\u001b[0m \u001b[0;34m=\u001b[0m \u001b[0mos\u001b[0m\u001b[0;34m.\u001b[0m\u001b[0mpath\u001b[0m\u001b[0;34m.\u001b[0m\u001b[0mjoin\u001b[0m\u001b[0;34m(\u001b[0m\u001b[0mpwd_path\u001b[0m\u001b[0;34m,\u001b[0m \u001b[0;34m'./people_chars_lm.klm'\u001b[0m\u001b[0;34m)\u001b[0m\u001b[0;34m\u001b[0m\u001b[0;34m\u001b[0m\u001b[0m\n",
      "\u001b[0;31mNameError\u001b[0m: name '__file__' is not defined"
     ]
    }
   ],
   "source": [
    "import os\n",
    "from pycorrector import Corrector\n",
    "\n",
    "pwd_path = os.path.abspath(os.path.dirname(__file__))\n",
    "print(pwd_path)\n",
    "lm_path = os.path.join(pwd_path, './people_chars_lm.klm')\n",
    "model = Corrector(language_model_path=lm_path)\n",
    "\n",
    "corrected_sent, detail = model.correct('少先队员因该为老人让坐')\n",
    "print(corrected_sent, detail)\n",
    "# 少先队员应该为老人让座 [[('因该', '应该', 4, 6)], [('坐', '座', 10, 11)]]"
   ]
  },
  {
   "cell_type": "code",
   "execution_count": 5,
   "metadata": {
    "collapsed": true
   },
   "outputs": [],
   "source": [
    "from bert_serving.client import BertClient"
   ]
  },
  {
   "cell_type": "code",
   "execution_count": 7,
   "metadata": {
    "collapsed": false
   },
   "outputs": [
    {
     "ename": "KeyboardInterrupt",
     "evalue": "",
     "output_type": "error",
     "traceback": [
      "\u001b[0;31m---------------------------------------------------------------------------\u001b[0m",
      "\u001b[0;31mKeyboardInterrupt\u001b[0m                         Traceback (most recent call last)",
      "\u001b[0;32m<ipython-input-7-995e0c664e3f>\u001b[0m in \u001b[0;36m<module>\u001b[0;34m()\u001b[0m\n\u001b[0;32m----> 1\u001b[0;31m \u001b[0mbc\u001b[0m \u001b[0;34m=\u001b[0m \u001b[0mBertClient\u001b[0m\u001b[0;34m(\u001b[0m\u001b[0;34m)\u001b[0m\u001b[0;34m\u001b[0m\u001b[0;34m\u001b[0m\u001b[0m\n\u001b[0m",
      "\u001b[0;32m~/Desktop/anaconda3/lib/python3.6/site-packages/bert_serving/client/__init__.py\u001b[0m in \u001b[0;36m__init__\u001b[0;34m(self, ip, port, port_out, output_fmt, show_server_config, identity, check_version, check_length, check_token_info, ignore_all_checks, timeout)\u001b[0m\n\u001b[1;32m    106\u001b[0m \u001b[0;34m\u001b[0m\u001b[0m\n\u001b[1;32m    107\u001b[0m         \u001b[0;32mif\u001b[0m \u001b[0;32mnot\u001b[0m \u001b[0mignore_all_checks\u001b[0m \u001b[0;32mand\u001b[0m \u001b[0;34m(\u001b[0m\u001b[0mcheck_version\u001b[0m \u001b[0;32mor\u001b[0m \u001b[0mshow_server_config\u001b[0m \u001b[0;32mor\u001b[0m \u001b[0mcheck_length\u001b[0m \u001b[0;32mor\u001b[0m \u001b[0mcheck_token_info\u001b[0m\u001b[0;34m)\u001b[0m\u001b[0;34m:\u001b[0m\u001b[0;34m\u001b[0m\u001b[0;34m\u001b[0m\u001b[0m\n\u001b[0;32m--> 108\u001b[0;31m             \u001b[0ms_status\u001b[0m \u001b[0;34m=\u001b[0m \u001b[0mself\u001b[0m\u001b[0;34m.\u001b[0m\u001b[0mserver_config\u001b[0m\u001b[0;34m\u001b[0m\u001b[0;34m\u001b[0m\u001b[0m\n\u001b[0m\u001b[1;32m    109\u001b[0m \u001b[0;34m\u001b[0m\u001b[0m\n\u001b[1;32m    110\u001b[0m             \u001b[0;32mif\u001b[0m \u001b[0mcheck_version\u001b[0m \u001b[0;32mand\u001b[0m \u001b[0ms_status\u001b[0m\u001b[0;34m[\u001b[0m\u001b[0;34m'server_version'\u001b[0m\u001b[0;34m]\u001b[0m \u001b[0;34m!=\u001b[0m \u001b[0mself\u001b[0m\u001b[0;34m.\u001b[0m\u001b[0mstatus\u001b[0m\u001b[0;34m[\u001b[0m\u001b[0;34m'client_version'\u001b[0m\u001b[0;34m]\u001b[0m\u001b[0;34m:\u001b[0m\u001b[0;34m\u001b[0m\u001b[0;34m\u001b[0m\u001b[0m\n",
      "\u001b[0;32m~/Desktop/anaconda3/lib/python3.6/site-packages/bert_serving/client/__init__.py\u001b[0m in \u001b[0;36marg_wrapper\u001b[0;34m(self, *args, **kwargs)\u001b[0m\n\u001b[1;32m    204\u001b[0m                 \u001b[0mself\u001b[0m\u001b[0;34m.\u001b[0m\u001b[0mreceiver\u001b[0m\u001b[0;34m.\u001b[0m\u001b[0msetsockopt\u001b[0m\u001b[0;34m(\u001b[0m\u001b[0mzmq\u001b[0m\u001b[0;34m.\u001b[0m\u001b[0mRCVTIMEO\u001b[0m\u001b[0;34m,\u001b[0m \u001b[0mself\u001b[0m\u001b[0;34m.\u001b[0m\u001b[0mtimeout\u001b[0m\u001b[0;34m)\u001b[0m\u001b[0;34m\u001b[0m\u001b[0;34m\u001b[0m\u001b[0m\n\u001b[1;32m    205\u001b[0m             \u001b[0;32mtry\u001b[0m\u001b[0;34m:\u001b[0m\u001b[0;34m\u001b[0m\u001b[0;34m\u001b[0m\u001b[0m\n\u001b[0;32m--> 206\u001b[0;31m                 \u001b[0;32mreturn\u001b[0m \u001b[0mfunc\u001b[0m\u001b[0;34m(\u001b[0m\u001b[0mself\u001b[0m\u001b[0;34m,\u001b[0m \u001b[0;34m*\u001b[0m\u001b[0margs\u001b[0m\u001b[0;34m,\u001b[0m \u001b[0;34m**\u001b[0m\u001b[0mkwargs\u001b[0m\u001b[0;34m)\u001b[0m\u001b[0;34m\u001b[0m\u001b[0;34m\u001b[0m\u001b[0m\n\u001b[0m\u001b[1;32m    207\u001b[0m             \u001b[0;32mexcept\u001b[0m \u001b[0mzmq\u001b[0m\u001b[0;34m.\u001b[0m\u001b[0merror\u001b[0m\u001b[0;34m.\u001b[0m\u001b[0mAgain\u001b[0m \u001b[0;32mas\u001b[0m \u001b[0m_e\u001b[0m\u001b[0;34m:\u001b[0m\u001b[0;34m\u001b[0m\u001b[0;34m\u001b[0m\u001b[0m\n\u001b[1;32m    208\u001b[0m                 t_e = TimeoutError(\n",
      "\u001b[0;32m~/Desktop/anaconda3/lib/python3.6/site-packages/bert_serving/client/__init__.py\u001b[0m in \u001b[0;36mserver_config\u001b[0;34m(self)\u001b[0m\n\u001b[1;32m    230\u001b[0m         \"\"\"\n\u001b[1;32m    231\u001b[0m         \u001b[0mreq_id\u001b[0m \u001b[0;34m=\u001b[0m \u001b[0mself\u001b[0m\u001b[0;34m.\u001b[0m\u001b[0m_send\u001b[0m\u001b[0;34m(\u001b[0m\u001b[0;34mb'SHOW_CONFIG'\u001b[0m\u001b[0;34m)\u001b[0m\u001b[0;34m\u001b[0m\u001b[0;34m\u001b[0m\u001b[0m\n\u001b[0;32m--> 232\u001b[0;31m         \u001b[0;32mreturn\u001b[0m \u001b[0mjsonapi\u001b[0m\u001b[0;34m.\u001b[0m\u001b[0mloads\u001b[0m\u001b[0;34m(\u001b[0m\u001b[0mself\u001b[0m\u001b[0;34m.\u001b[0m\u001b[0m_recv\u001b[0m\u001b[0;34m(\u001b[0m\u001b[0mreq_id\u001b[0m\u001b[0;34m)\u001b[0m\u001b[0;34m.\u001b[0m\u001b[0mcontent\u001b[0m\u001b[0;34m[\u001b[0m\u001b[0;36m1\u001b[0m\u001b[0;34m]\u001b[0m\u001b[0;34m)\u001b[0m\u001b[0;34m\u001b[0m\u001b[0;34m\u001b[0m\u001b[0m\n\u001b[0m\u001b[1;32m    233\u001b[0m \u001b[0;34m\u001b[0m\u001b[0m\n\u001b[1;32m    234\u001b[0m     \u001b[0;34m@\u001b[0m\u001b[0mproperty\u001b[0m\u001b[0;34m\u001b[0m\u001b[0;34m\u001b[0m\u001b[0m\n",
      "\u001b[0;32m~/Desktop/anaconda3/lib/python3.6/site-packages/bert_serving/client/__init__.py\u001b[0m in \u001b[0;36m_recv\u001b[0;34m(self, wait_for_req_id)\u001b[0m\n\u001b[1;32m    151\u001b[0m \u001b[0;34m\u001b[0m\u001b[0m\n\u001b[1;32m    152\u001b[0m                 \u001b[0;31m# receive a response\u001b[0m\u001b[0;34m\u001b[0m\u001b[0;34m\u001b[0m\u001b[0;34m\u001b[0m\u001b[0m\n\u001b[0;32m--> 153\u001b[0;31m                 \u001b[0mresponse\u001b[0m \u001b[0;34m=\u001b[0m \u001b[0mself\u001b[0m\u001b[0;34m.\u001b[0m\u001b[0mreceiver\u001b[0m\u001b[0;34m.\u001b[0m\u001b[0mrecv_multipart\u001b[0m\u001b[0;34m(\u001b[0m\u001b[0;34m)\u001b[0m\u001b[0;34m\u001b[0m\u001b[0;34m\u001b[0m\u001b[0m\n\u001b[0m\u001b[1;32m    154\u001b[0m                 \u001b[0mrequest_id\u001b[0m \u001b[0;34m=\u001b[0m \u001b[0mint\u001b[0m\u001b[0;34m(\u001b[0m\u001b[0mresponse\u001b[0m\u001b[0;34m[\u001b[0m\u001b[0;34m-\u001b[0m\u001b[0;36m1\u001b[0m\u001b[0;34m]\u001b[0m\u001b[0;34m)\u001b[0m\u001b[0;34m\u001b[0m\u001b[0;34m\u001b[0m\u001b[0m\n\u001b[1;32m    155\u001b[0m \u001b[0;34m\u001b[0m\u001b[0m\n",
      "\u001b[0;32m~/Desktop/anaconda3/lib/python3.6/site-packages/zmq/sugar/socket.py\u001b[0m in \u001b[0;36mrecv_multipart\u001b[0;34m(self, flags, copy, track)\u001b[0m\n\u001b[1;32m    581\u001b[0m             \u001b[0;32mfor\u001b[0m \u001b[0many\u001b[0m \u001b[0mof\u001b[0m \u001b[0mthe\u001b[0m \u001b[0mreasons\u001b[0m \u001b[0;34m:\u001b[0m\u001b[0mfunc\u001b[0m\u001b[0;34m:\u001b[0m\u001b[0;31m`\u001b[0m\u001b[0;34m~\u001b[0m\u001b[0mSocket\u001b[0m\u001b[0;34m.\u001b[0m\u001b[0mrecv\u001b[0m\u001b[0;31m`\u001b[0m \u001b[0mmight\u001b[0m \u001b[0mfail\u001b[0m\u001b[0;34m\u001b[0m\u001b[0;34m\u001b[0m\u001b[0m\n\u001b[1;32m    582\u001b[0m         \"\"\"\n\u001b[0;32m--> 583\u001b[0;31m         \u001b[0mparts\u001b[0m \u001b[0;34m=\u001b[0m \u001b[0;34m[\u001b[0m\u001b[0mself\u001b[0m\u001b[0;34m.\u001b[0m\u001b[0mrecv\u001b[0m\u001b[0;34m(\u001b[0m\u001b[0mflags\u001b[0m\u001b[0;34m,\u001b[0m \u001b[0mcopy\u001b[0m\u001b[0;34m=\u001b[0m\u001b[0mcopy\u001b[0m\u001b[0;34m,\u001b[0m \u001b[0mtrack\u001b[0m\u001b[0;34m=\u001b[0m\u001b[0mtrack\u001b[0m\u001b[0;34m)\u001b[0m\u001b[0;34m]\u001b[0m\u001b[0;34m\u001b[0m\u001b[0;34m\u001b[0m\u001b[0m\n\u001b[0m\u001b[1;32m    584\u001b[0m         \u001b[0;31m# have first part already, only loop while more to receive\u001b[0m\u001b[0;34m\u001b[0m\u001b[0;34m\u001b[0m\u001b[0;34m\u001b[0m\u001b[0m\n\u001b[1;32m    585\u001b[0m         \u001b[0;32mwhile\u001b[0m \u001b[0mself\u001b[0m\u001b[0;34m.\u001b[0m\u001b[0mgetsockopt\u001b[0m\u001b[0;34m(\u001b[0m\u001b[0mzmq\u001b[0m\u001b[0;34m.\u001b[0m\u001b[0mRCVMORE\u001b[0m\u001b[0;34m)\u001b[0m\u001b[0;34m:\u001b[0m\u001b[0;34m\u001b[0m\u001b[0;34m\u001b[0m\u001b[0m\n",
      "\u001b[0;32mzmq/backend/cython/socket.pyx\u001b[0m in \u001b[0;36mzmq.backend.cython.socket.Socket.recv\u001b[0;34m()\u001b[0m\n",
      "\u001b[0;32mzmq/backend/cython/socket.pyx\u001b[0m in \u001b[0;36mzmq.backend.cython.socket.Socket.recv\u001b[0;34m()\u001b[0m\n",
      "\u001b[0;32mzmq/backend/cython/socket.pyx\u001b[0m in \u001b[0;36mzmq.backend.cython.socket._recv_copy\u001b[0;34m()\u001b[0m\n",
      "\u001b[0;32m~/Desktop/anaconda3/lib/python3.6/site-packages/zmq/backend/cython/checkrc.pxd\u001b[0m in \u001b[0;36mzmq.backend.cython.checkrc._check_rc\u001b[0;34m()\u001b[0m\n",
      "\u001b[0;31mKeyboardInterrupt\u001b[0m: "
     ]
    }
   ],
   "source": [
    "bc = BertClient()"
   ]
  },
  {
   "cell_type": "code",
   "execution_count": null,
   "metadata": {
    "collapsed": true
   },
   "outputs": [],
   "source": [
    "bc.encode(['電影很好看', '電視很難看', '這本書不錯'])"
   ]
  },
  {
   "cell_type": "code",
   "execution_count": null,
   "metadata": {
    "collapsed": true
   },
   "outputs": [],
   "source": []
  }
 ],
 "metadata": {
  "kernelspec": {
   "display_name": "Python 3",
   "language": "python",
   "name": "python3"
  },
  "language_info": {
   "codemirror_mode": {
    "name": "ipython",
    "version": 3
   },
   "file_extension": ".py",
   "mimetype": "text/x-python",
   "name": "python",
   "nbconvert_exporter": "python",
   "pygments_lexer": "ipython3",
   "version": "3.6.8"
  }
 },
 "nbformat": 4,
 "nbformat_minor": 4
}
